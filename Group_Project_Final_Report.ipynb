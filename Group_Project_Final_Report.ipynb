{
 "cells": [
  {
   "cell_type": "markdown",
   "id": "1401bb30-3c15-4110-a620-a5bdc0b18725",
   "metadata": {},
   "source": [
    "# Introduction\n",
    "\n",
    "Provide a brief introduction that will motivate your report for the reader. This is especially important if your topic, dataset, or the focus of your investigation has evolved or changed as you continued your project. Why is your topic significant or interesting? Why did you want to work on this?\n",
    "\n",
    "Dataset and Guiding Questions\n",
    "\n",
    "Describe your dataset, especially key features (columns) or things you thought were particularly interesting about your dataset. \n",
    "\n",
    "Reiterate your guiding questions, highlighting where they may have evolved or changed in response to feedback or your own discoveries in working with the dataset.\n",
    "\n",
    "Analysis\n",
    "\n",
    "Provide answers to those questions appropriately backed up by your exploratory analysis. You may include appropriate cells (both Markdown and code) to walk your reader through the different wrangling and visualization tasks you performed.\n",
    "\n",
    "Discussion and Conclusion\n",
    "\n",
    "Finally, take a moment to discuss your process and your results. What were your results, and did they align with what you expected to find? How did the presentations or other feedback you received affected the process? What were the major contributions of each team member? Finally, what would you want to do or learn next with this dataset? Are there new guiding questions you've thought of or something else you want to try?\n",
    "\n",
    "References and AI Use\n",
    "\n",
    "All references should be cited appropriately (using quotations and paraphrasing where it makes sense) using an appropriate and consistent format, and included with your report. Include any background that information that contextualizes or supports the analysis of your dataset, technical resources which helped you to solve a problem in your analysis, and any libraries which were not covered in the class (a link to the library's documentation is sufficient).\n",
    "\n",
    "If you have used generative AI tools to support any part of this analysis, remember that you must present as an appendix an ethical position for your AI use, as well as a listing of all the prompts you used (and a description of what you used them for)."
   ]
  },
  {
   "cell_type": "code",
   "execution_count": 4,
   "id": "ea4372a9-5941-4ccd-ade7-180fb27199bb",
   "metadata": {},
   "outputs": [],
   "source": [
    "#Make sure all appropriate libraries loaded\n",
    "import pandas as pd\n",
    "import numpy as np\n",
    "import seaborn as sns\n",
    "import matplotlib.pyplot as plt\n",
    "import statsmodels.api as sm\n",
    "from statsmodels.formula.api import ols\n",
    "import plotly.express as px\n",
    "from pydataset import data"
   ]
  },
  {
   "cell_type": "code",
   "execution_count": 7,
   "id": "5cbd3d6e-8aac-4873-9b9e-2b2b586c91c7",
   "metadata": {},
   "outputs": [],
   "source": [
    "#Load dataset attached to submission\n",
    "df=pd.read_csv('pumf_cchs.csv')"
   ]
  },
  {
   "cell_type": "code",
   "execution_count": 15,
   "id": "3aec4262-49f1-450b-a5d0-9794f774e94e",
   "metadata": {},
   "outputs": [
    {
     "name": "stdout",
     "output_type": "stream",
     "text": [
      "   ALC_015  ALC_020  GEN_010  GEN_015  GEN_020  GEN_025  CCC_195  GEN_005  \\\n",
      "0      5.0      3.0      9.0      3.0      2.0      2.0      2.0      3.0   \n",
      "1      1.0      1.0      4.0      3.0      3.0      6.0      1.0      3.0   \n",
      "2     96.0     96.0      7.0      3.0      3.0      6.0      2.0      2.0   \n",
      "3     96.0     96.0      8.0      3.0      3.0      6.0      2.0      3.0   \n",
      "4     96.0     96.0      0.0      5.0      4.0      6.0      2.0      5.0   \n",
      "\n",
      "   HWTDGISW  CAN_015  ...  SBE_010  PAA_005  DHHGAGE  DHH_SEX  GEOGPRV  \\\n",
      "0       1.0      2.0  ...      6.0      2.0      3.0      2.0     47.0   \n",
      "1       2.0      2.0  ...      6.0      2.0      5.0      1.0     47.0   \n",
      "2       2.0      2.0  ...      1.0      6.0      5.0      2.0     59.0   \n",
      "3       2.0      2.0  ...      6.0      6.0      5.0      1.0     13.0   \n",
      "4       2.0      2.0  ...      6.0      6.0      4.0      1.0     46.0   \n",
      "\n",
      "   EHG2DVH3  HWT_050  PEX_005  ADM_RNO1  GENDVHDI  \n",
      "0       3.0      3.0     96.0      1000       2.0  \n",
      "1       2.0      1.0     96.0    100005       2.0  \n",
      "2       1.0      1.0     96.0    100012       3.0  \n",
      "3       1.0      1.0     96.0    100015       2.0  \n",
      "4       3.0      3.0     96.0    100018       0.0  \n",
      "\n",
      "[5 rows x 27 columns]\n"
     ]
    }
   ],
   "source": [
    "#This should filter all of the variables we want on the general level. You will need to determine which variables you will use\n",
    "#IMPORTANT I did not include all the CCC values for chronic disease here. I can look and see what we need, and try to adjust shortly\n",
    "#If you think anything is missing here, feel free to change\n",
    "df_general=df.filter(items=[\n",
    "    'ALC_015',\n",
    "    'ALC_020',\n",
    "    'GEN_010',\n",
    "    'GEN_015',\n",
    "    'GEN_020',\n",
    "    'GEN_025',\n",
    "    'CCC_195',\n",
    "    'GEN_005',\n",
    "    'HWTDGISW',\n",
    "    'CAN_015',\n",
    "    'SMK_005',\n",
    "    'SMK_060',\n",
    "    'PAADVACV',\n",
    "    'PAA_030',\n",
    "    'PAA_060',\n",
    "    'PAA_095',\n",
    "    'SBE_005',\n",
    "    'SBE_010',\n",
    "    'PAA_005',\n",
    "    'DHHGAGE',\n",
    "    'DHH_SEX',\n",
    "    'GEOGPRV',\n",
    "    'EHG2DVH3',\n",
    "    'HWT_050',\n",
    "    'PEX_005',\n",
    "    'ADM_RNO1',\n",
    "    'GENDVHDI'\n",
    "    ])\n",
    "print(df_general.head())"
   ]
  },
  {
   "cell_type": "markdown",
   "id": "f9b47c85-b4bb-4bfe-bd57-c10c834dd3f1",
   "metadata": {},
   "source": [
    "## Analysis"
   ]
  },
  {
   "cell_type": "markdown",
   "id": "54aebbe1-e6e5-46ef-aec9-d00c0be678fb",
   "metadata": {},
   "source": [
    "### Health Drivers Vs. Health Barriers"
   ]
  },
  {
   "cell_type": "markdown",
   "id": "32c97111-d5f5-4e38-a8c4-9a08cf6f79a1",
   "metadata": {},
   "source": [
    "#### Question _ - How does alcohol consumption affect mental health among different age groups? "
   ]
  },
  {
   "cell_type": "markdown",
   "id": "e583c6b5-c322-4ba8-9c79-dbfefa68cb80",
   "metadata": {},
   "source": [
    "#### Question _ -    How does cannabis use impact stress levels? "
   ]
  },
  {
   "cell_type": "code",
   "execution_count": null,
   "id": "1bf94e36",
   "metadata": {},
   "outputs": [],
   "source": [
    "df_q4=df_general.copy()\n",
    "df_q4=df.copy()\n",
    "df_q4=df_q4.filter(items=['GEN_020','GEN_025','CAN_015'])\n",
    "print(df_q4.head())"
   ]
  },
  {
   "cell_type": "code",
   "execution_count": null,
   "id": "e5aac7f8",
   "metadata": {},
   "outputs": [],
   "source": [
    "df_q4.to_csv('Question 4.csv',index=False)"
   ]
  },
  {
   "cell_type": "code",
   "execution_count": null,
   "id": "bbd4075b",
   "metadata": {},
   "outputs": [],
   "source": [
    "df_q4.info()"
   ]
  },
  {
   "cell_type": "code",
   "execution_count": null,
   "id": "b1efa2e8",
   "metadata": {},
   "outputs": [],
   "source": [
    "df_q4.describe()"
   ]
  },
  {
   "cell_type": "code",
   "execution_count": null,
   "id": "00ad695c",
   "metadata": {},
   "outputs": [],
   "source": [
    "df_q4.dtypes"
   ]
  },
  {
   "cell_type": "code",
   "execution_count": null,
   "id": "e0b2d570",
   "metadata": {},
   "outputs": [],
   "source": [
    "df_q4.isnull().sum() #check for missing values"
   ]
  },
  {
   "cell_type": "code",
   "execution_count": null,
   "id": "0e0e6a0e",
   "metadata": {},
   "outputs": [],
   "source": [
    "df_q4[['CAN_015','GEN_020','GEN_025']]=df_q4[['CAN_015','GEN_020','GEN_025']].astype(int) #Converts Cannabis Use CAN_015, GEN_020, GEN_025 into integer type.\n",
    "df_q4.info()"
   ]
  },
  {
   "cell_type": "code",
   "execution_count": null,
   "id": "f980a1c0",
   "metadata": {},
   "outputs": [],
   "source": [
    "df_q4=df_q4.drop(df_q4[df_q4['GEN_020']==7].index)\n",
    "df_q4=df_q4.drop(df_q4[df_q4['GEN_020']==8].index)"
   ]
  },
  {
   "cell_type": "code",
   "execution_count": null,
   "id": "abe309cf",
   "metadata": {},
   "outputs": [],
   "source": [
    "df_q4=df_q4.drop(df_q4[df_q4['GEN_025']==6].index)\n",
    "df_q4=df_q4.drop(df_q4[df_q4['GEN_025']==7].index)\n",
    "df_q4=df_q4.drop(df_q4[df_q4['GEN_025']==8].index)\n",
    "df_q4=df_q4.drop(df_q4[df_q4['GEN_025']==9].index)"
   ]
  },
  {
   "cell_type": "code",
   "execution_count": null,
   "id": "2a7d98b9",
   "metadata": {},
   "outputs": [],
   "source": [
    "df_q4=df_q4.drop(df_q4[df_q4['CAN_015']==7].index)\n",
    "df_q4=df_q4.drop(df_q4[df_q4['CAN_015']==8].index)\n",
    "df_q4=df_q4.drop(df_q4[df_q4['CAN_015']==9].index)"
   ]
  },
  {
   "cell_type": "code",
   "execution_count": null,
   "id": "9359cea8",
   "metadata": {},
   "outputs": [],
   "source": [
    "df_q4.describe()"
   ]
  },
  {
   "cell_type": "code",
   "execution_count": null,
   "id": "b00e9add",
   "metadata": {},
   "outputs": [],
   "source": [
    "df4_stress=df_q4.groupby('GEN_020', as_index=False)['CAN_015'].value_counts(normalize=True,sort=False)\n",
    "display(df4_stress)"
   ]
  },
  {
   "cell_type": "code",
   "execution_count": null,
   "id": "e29e9aca",
   "metadata": {},
   "outputs": [],
   "source": [
    "plt.figure(figsize=(12, 6))\n",
    "plt.bar(df4_stress['GEN_020'].unique(),df4_stress['proportion'][::2],width=0.3,label='Poeple Used Cannabis in Past 12 Months')\n",
    "plt.bar(df4_stress['GEN_020'].unique()+0.3,df4_stress['proportion'][1::2],width=0.3, label=\"People Didn't Use Cannabis in Past 12 Months\")\n",
    "plt.xticks(df4_stress['GEN_020'].unique()+0.3/2,('Not at all stressful','Not very stressful','A bit stressful','Quite bit stressful','Extremely stressful'))\n",
    "plt.xlabel('Preceived Life Stress by Canabis Use')\n",
    "plt.ylabel('Percent')\n",
    "plt.legend()\n",
    "plt.show()"
   ]
  },
  {
   "cell_type": "code",
   "execution_count": null,
   "id": "0a29334e",
   "metadata": {},
   "outputs": [],
   "source": [
    "df4_stress=df_q4.groupby('GEN_025', as_index=False)['CAN_015'].value_counts(normalize=True,sort=False)\n",
    "display(df4_stress)"
   ]
  },
  {
   "cell_type": "code",
   "execution_count": null,
   "id": "32411a9c",
   "metadata": {},
   "outputs": [],
   "source": [
    "plt.figure(figsize=(12, 6))\n",
    "plt.bar(df4_stress['GEN_025'].unique(),df4_stress['proportion'][::2],width=0.3,label='Poeple Used Cannabis in Past 12 Months')\n",
    "plt.bar(df4_stress['GEN_025'].unique()+0.3,df4_stress['proportion'][1::2],width=0.3, label=\"People Didn't Use Cannabis in Past 12 Months\")\n",
    "plt.xticks(df4_stress['GEN_025'].unique()+0.3/2,('Not at all stressful','Not very stressful','A bit stressful','Quite bit stressful','Extremely stressful'))\n",
    "plt.xlabel('Preceived Work Stress by Canabis Use')\n",
    "plt.ylabel('Percent')\n",
    "plt.legend()\n",
    "plt.show()"
   ]
  },
  {
   "cell_type": "markdown",
   "id": "3790e8ca-65cc-4dcf-88eb-07be1d77174a",
   "metadata": {},
   "source": [
    "#### Question _ - What is the relationship between smoking and physical health outcomes"
   ]
  },
  {
   "cell_type": "markdown",
   "id": "d1cb5a68-7cbd-4752-a8d6-625979ea8f4c",
   "metadata": {},
   "source": [
    "#### Question _ - Which demographic groups (age, sex, region) are most affected by health barriers? "
   ]
  },
  {
   "cell_type": "code",
   "execution_count": null,
   "id": "f9483d74",
   "metadata": {},
   "outputs": [],
   "source": [
    "df_q5=df.copy()\n",
    "df_q5=df_q5.filter(items=['CAN_015','SMK_005','SMMK_060','ALC_015','ALC_020','DHHGAGE','DHH_SEX','GEOGPRV','EHG2DVH3'])\n",
    "print(df_q5.head())"
   ]
  },
  {
   "cell_type": "markdown",
   "id": "c19e6f70",
   "metadata": {},
   "source": [
    "Columns of interested varibels were taken out from the dataset to answer the guidlding questions. "
   ]
  },
  {
   "cell_type": "code",
   "execution_count": null,
   "id": "1341f746",
   "metadata": {},
   "outputs": [],
   "source": [
    "df_q5.to_csv('Question 5.csv',index=False)"
   ]
  },
  {
   "cell_type": "code",
   "execution_count": null,
   "id": "02b2e641",
   "metadata": {},
   "outputs": [],
   "source": [
    "df_q5.info()"
   ]
  },
  {
   "cell_type": "code",
   "execution_count": null,
   "id": "d8a3c2f0",
   "metadata": {},
   "outputs": [],
   "source": [
    "df_q5.describe()"
   ]
  },
  {
   "cell_type": "code",
   "execution_count": null,
   "id": "f6effe8c",
   "metadata": {},
   "outputs": [],
   "source": [
    "df_q5.dtypes"
   ]
  },
  {
   "cell_type": "code",
   "execution_count": null,
   "id": "449cd05b",
   "metadata": {},
   "outputs": [],
   "source": [
    "df_q5.isnull().sum() #check for missing values"
   ]
  },
  {
   "cell_type": "markdown",
   "id": "1f374a4f",
   "metadata": {},
   "source": [
    "## Data Cleaning\n",
    "To conduct data cleaning for the dataset, we focused on removing the unrelated values from the variables of interest that may skew the data analysis such as \"don't know\", \"refusal\" and \"not state\". "
   ]
  },
  {
   "cell_type": "code",
   "execution_count": null,
   "id": "e097d901",
   "metadata": {},
   "outputs": [],
   "source": [
    "df_q5=df_q5.drop(df_q5[df_q5['CAN_015']==7].index)\n",
    "df_q5=df_q5.drop(df_q5[df_q5['CAN_015']==8].index)\n",
    "df_q5=df_q5.drop(df_q5[df_q5['CAN_015']==9].index)"
   ]
  },
  {
   "cell_type": "code",
   "execution_count": null,
   "id": "645e8394",
   "metadata": {},
   "outputs": [],
   "source": [
    "df_q5=df_q5.drop(df_q5[df_q5['SMK_005']==7].index)\n",
    "df_q5=df_q5.drop(df_q5[df_q5['SMK_005']==8].index)\n",
    "df_q5=df_q5.drop(df_q5[df_q5['SMK_005']==9].index)"
   ]
  },
  {
   "cell_type": "code",
   "execution_count": null,
   "id": "ada3912d",
   "metadata": {},
   "outputs": [],
   "source": [
    "df_q5=df_q5.drop(df_q5[df_q5['ALC_015']==96].index)\n",
    "df_q5=df_q5.drop(df_q5[df_q5['ALC_015']==97].index)\n",
    "df_q5=df_q5.drop(df_q5[df_q5['ALC_015']==98].index)\n",
    "df_q5=df_q5.drop(df_q5[df_q5['ALC_015']==99].index)"
   ]
  },
  {
   "cell_type": "code",
   "execution_count": null,
   "id": "bbabf10b",
   "metadata": {},
   "outputs": [],
   "source": [
    "df_q5=df_q5.drop(df_q5[df_q5['ALC_020']==96].index)\n",
    "df_q5=df_q5.drop(df_q5[df_q5['ALC_020']==97].index)\n",
    "df_q5=df_q5.drop(df_q5[df_q5['ALC_020']==98].index)\n",
    "df_q5=df_q5.drop(df_q5[df_q5['ALC_020']==99].index)"
   ]
  },
  {
   "cell_type": "code",
   "execution_count": null,
   "id": "c4930966",
   "metadata": {},
   "outputs": [],
   "source": [
    "df_q5=df_q5.drop(df_q5[df_q5['EHG2DVH3']==9].index)"
   ]
  },
  {
   "cell_type": "code",
   "execution_count": null,
   "id": "0fd839f0",
   "metadata": {},
   "outputs": [],
   "source": [
    "df_q5['CAN_015'] = df_q5['CAN_015'].astype(int)\n",
    "df_q5['CAN_015'].dtypes"
   ]
  },
  {
   "cell_type": "code",
   "execution_count": null,
   "id": "e6444c78",
   "metadata": {},
   "outputs": [],
   "source": [
    "df_q5['SMK_005'] = df_q5['SMK_005'].astype(int)\n",
    "df_q5['SMK_005'].dtypes"
   ]
  },
  {
   "cell_type": "code",
   "execution_count": null,
   "id": "0074d5da",
   "metadata": {},
   "outputs": [],
   "source": [
    "df_q5['ALC_015'] = df_q5['ALC_015'].astype(int)\n",
    "df_q5['ALC_015'].dtypes"
   ]
  },
  {
   "cell_type": "code",
   "execution_count": null,
   "id": "f37c984b",
   "metadata": {},
   "outputs": [],
   "source": [
    "df_q5['ALC_020'] = df_q5['ALC_020'].astype(int)\n",
    "df_q5['ALC_020'].dtypes"
   ]
  },
  {
   "cell_type": "code",
   "execution_count": null,
   "id": "1494872b",
   "metadata": {},
   "outputs": [],
   "source": [
    "df_q5['DHH_SEX'] = df_q5['DHH_SEX'].astype(int)\n",
    "df_q5['DHH_SEX'].dtypes"
   ]
  },
  {
   "cell_type": "code",
   "execution_count": null,
   "id": "9e6961d6",
   "metadata": {},
   "outputs": [],
   "source": [
    "df_q5['DHHGAGE'] = df_q5['DHHGAGE'].astype(int)\n",
    "df_q5['DHHGAGE'].dtypes"
   ]
  },
  {
   "cell_type": "code",
   "execution_count": null,
   "id": "b444daed",
   "metadata": {},
   "outputs": [],
   "source": [
    "df_q5['GEOGPRV'] = df_q5['GEOGPRV'].astype(int)\n",
    "df_q5['GEOGPRV'].dtypes"
   ]
  },
  {
   "cell_type": "code",
   "execution_count": null,
   "id": "9f786b7c",
   "metadata": {},
   "outputs": [],
   "source": [
    "df_q5['EHG2DVH3'] = df_q5['EHG2DVH3'].astype(int)\n",
    "df_q5['EHG2DVH3'].dtypes"
   ]
  },
  {
   "cell_type": "code",
   "execution_count": null,
   "id": "edc18873",
   "metadata": {},
   "outputs": [],
   "source": [
    "df_q5.describe()"
   ]
  },
  {
   "cell_type": "code",
   "execution_count": null,
   "id": "92fed54e",
   "metadata": {},
   "outputs": [],
   "source": [
    "df5_cansex=df_q5.groupby('DHH_SEX', as_index=False)['CAN_015'].value_counts(normalize=True,sort=False)\n",
    "display(df5_cansex)"
   ]
  },
  {
   "cell_type": "code",
   "execution_count": null,
   "id": "5e728e5b",
   "metadata": {},
   "outputs": [],
   "source": [
    "plt.figure(figsize=(10,7))\n",
    "plt.bar(df5_cansex['DHH_SEX'].unique(),df5_cansex['proportion'][::2],width=0.3,label='Poeple Used Cannabis in Past 12 Months')\n",
    "plt.bar(df5_cansex['DHH_SEX'].unique()+0.3,df5_cansex['proportion'][1::2],width=0.3, label=\"People Didn't Use Cannabis in Past 12 Months\")\n",
    "plt.xticks(df5_cansex['DHH_SEX'].unique()+0.3/2,('Male','Female'))\n",
    "plt.xlabel('Gender Impacted by Canabis')\n",
    "plt.ylabel('Percent')\n",
    "plt.legend()\n",
    "plt.show()"
   ]
  },
  {
   "cell_type": "code",
   "execution_count": null,
   "id": "77a6bd3a",
   "metadata": {},
   "outputs": [],
   "source": [
    "cannabis_sex_data=df_q5[['CAN_015', 'DHH_SEX']].dropna()\n",
    "cannabis_sex=cannabis_sex_data.groupby('DHH_SEX')['CAN_015'].sum()\n",
    "DHH_SEX_labels={\n",
    "    1: \"Male\",\n",
    "    2: \"Female\"\n",
    "}\n",
    "cannabis_sex.index=cannabis_sex.index.map(DHH_SEX_labels)\n",
    "\n",
    "plt.figure(figsize=(5,5))\n",
    "cannabis_sex.plot(kind='pie',autopct='%1.1f%%',colors=['blue','orange'],startangle=90,textprops={'fontsize':12})\n",
    "plt.title('Cannabis Use by Sex')\n",
    "plt.ylabel('')  \n",
    "plt.show()"
   ]
  },
  {
   "cell_type": "code",
   "execution_count": null,
   "id": "1c51afec",
   "metadata": {},
   "outputs": [],
   "source": [
    "smoke_sex=df_q5[['SMK_005', 'DHH_SEX']].dropna()\n",
    "smoke_sex=smoke_sex.groupby('DHH_SEX')['SMK_005'].mean()\n",
    "DHH_SEX_labels={\n",
    "    1: \"Male\",\n",
    "    2: \"Female\"\n",
    "}\n",
    "smoke_sex.index=smoke_sex.index.map(DHH_SEX_labels)\n",
    "\n",
    "plt.figure(figsize=(8,6))\n",
    "plt.ylim(0,3)\n",
    "smoke_sex.plot(kind='bar', color=['skyblue', 'pink'])\n",
    "plt.title('Average Smoke Frequency by Gender')\n",
    "plt.xlabel('Sex')\n",
    "plt.ylabel('Average Smoke Frequency')\n",
    "plt.xticks(rotation=0)  \n",
    "plt.grid(axis='y',linestyle='--',alpha=0.7)\n",
    "plt.show()"
   ]
  },
  {
   "cell_type": "code",
   "execution_count": null,
   "id": "4cc14392",
   "metadata": {},
   "outputs": [],
   "source": [
    "smoking_sex=df_q5[['SMK_005', 'DHH_SEX']].dropna()\n",
    "smoking_bysex=smoking_sex.groupby('DHH_SEX')['SMK_005'].sum()\n",
    "DHH_SEX_labels={\n",
    "    1: \"Male\",\n",
    "    2: \"Female\"\n",
    "}\n",
    "smoking_bysex.index=smoking_bysex.index.map(DHH_SEX_labels)\n",
    "\n",
    "plt.figure(figsize=(5, 5))\n",
    "smoking_bysex.plot(kind='pie', autopct='%1.1f%%', colors=['skyblue', 'pink'], startangle=90, textprops={'fontsize': 12})\n",
    "plt.title('Smoke Frequency by Sex')\n",
    "plt.ylabel('')  \n",
    "plt.show()"
   ]
  },
  {
   "cell_type": "code",
   "execution_count": null,
   "id": "74a7bce1",
   "metadata": {},
   "outputs": [],
   "source": [
    "alcohol_sex=df_q5[['ALC_015', 'ALC_020', 'DHH_SEX']].dropna()\n",
    "alc_015_bysex=alcohol_sex.groupby('DHH_SEX')['ALC_015'].mean()\n",
    "alc_020_bysex=alcohol_sex.groupby('DHH_SEX')['ALC_020'].mean()\n",
    "DHH_SEX_labels={\n",
    "    1: \"Male\",\n",
    "    2: \"Female\"\n",
    "}\n",
    "alc_015_bysex.index=alc_015_bysex.index.map(DHH_SEX_labels)\n",
    "alc_020_bysex.index=alc_020_bysex.index.map(DHH_SEX_labels)\n",
    "\n",
    "plt.figure(figsize=(14,6))\n",
    "\n",
    "plt.subplot(1,2,1)  \n",
    "alc_015_bysex.plot(kind='bar',color=['blue','orange'])\n",
    "plt.title('Average Alcohol Consumption Frequency by Sex')\n",
    "plt.xlabel('Sex')\n",
    "plt.ylabel('Average Alcohol Consumption Frequency')\n",
    "plt.xticks(rotation=0)  \n",
    "plt.grid(axis='y',linestyle='--',alpha=0.7)\n",
    "\n",
    "plt.subplot(1,2,2) \n",
    "alc_020_bysex.plot(kind='bar',color=['blue','orange'])\n",
    "plt.title('Average Alcohol Consumption (Drink 4+/5+ One Occasion) by Sex')\n",
    "plt.xlabel('Sex')\n",
    "plt.ylabel('Average Alcohol Consumption (Drink 4+/5+ One Occasion')\n",
    "plt.xticks(rotation=0)  \n",
    "plt.grid(axis='y',linestyle='--',alpha=0.7)"
   ]
  },
  {
   "cell_type": "code",
   "execution_count": null,
   "id": "111fadba",
   "metadata": {},
   "outputs": [],
   "source": [
    "df5_smksex=df_q5.groupby('DHH_SEX', as_index=False)['SMK_005'].value_counts(normalize=True,sort=False)\n",
    "display(df5_smksex)"
   ]
  },
  {
   "cell_type": "code",
   "execution_count": null,
   "id": "ffb9e896",
   "metadata": {},
   "outputs": [],
   "source": [
    "data_filtered=df_q5[['CAN_015', 'DHHGAGE']].dropna()\n",
    "cannabis_use_different_age=data_filtered.groupby('DHHGAGE')['CAN_015'].mean()\n",
    "DHHGAGE_labels={\n",
    "    1: '12 to 17 years',\n",
    "    2: '18 to 34 years',\n",
    "    3: '35 to 49 years',\n",
    "    4: '50 to 64 years',\n",
    "    5: '65 years and older'\n",
    "}\n",
    "cannabis_use_different_age.index=cannabis_use_different_age.index.map(DHHGAGE_labels)\n",
    "\n",
    "plt.figure(figsize=(10,6))\n",
    "cannabis_use_different_age.plot(kind='bar',color='olive')\n",
    "plt.title('Average Cannabis Use by Different Age Group')\n",
    "plt.xlabel('Age Group')\n",
    "plt.ylabel('Average Cannabis Use')\n",
    "plt.xticks(rotation=45, ha='right')\n",
    "plt.grid(axis='y',linestyle='--',alpha=0.7)\n",
    "plt.show()"
   ]
  },
  {
   "cell_type": "code",
   "execution_count": null,
   "id": "43e672c2",
   "metadata": {},
   "outputs": [],
   "source": [
    "smoke_data_filtered=df_q5[['SMK_005', 'DHHGAGE']].dropna()\n",
    "smoke_byage=smoke_data_filtered.groupby('DHHGAGE')['SMK_005'].mean()\n",
    "DHHGAGE_labels={\n",
    "    1: \"12 to 17 years\",\n",
    "    2: \"18 to 34 years\",\n",
    "    3: \"35 to 49 years\",\n",
    "    4: \"50 to 64 years\",\n",
    "    5: \"65 years and older\"\n",
    "}\n",
    "smoke_byage.index=smoke_byage.index.map(DHHGAGE_labels)\n",
    "\n",
    "plt.figure(figsize=(10,6))\n",
    "smoke_byage.plot(kind='bar',color='purple')\n",
    "plt.title('Average Smoke Frequency by Age Group')\n",
    "plt.xlabel('Age Group')\n",
    "plt.ylabel('Average Smoke Frequency')\n",
    "plt.xticks(rotation=45,ha='right')\n",
    "plt.grid(axis='y',linestyle='--',alpha=0.7)\n",
    "plt.show()"
   ]
  },
  {
   "cell_type": "code",
   "execution_count": null,
   "id": "320cd7a5",
   "metadata": {},
   "outputs": [],
   "source": [
    "alcohol_data_filtered=df_q5[['ALC_015', 'ALC_020', 'DHHGAGE']].dropna()\n",
    "alc_015_by_age=alcohol_data_filtered.groupby('DHHGAGE')['ALC_015'].mean()\n",
    "alc_020_by_age=alcohol_data_filtered.groupby('DHHGAGE')['ALC_020'].mean()\n",
    "DHHGAGE_labels={\n",
    "    1: \"12 to 17 years\",\n",
    "    2: \"18 to 34 years\",\n",
    "    3: \"35 to 49 years\",\n",
    "    4: \"50 to 64 years\",\n",
    "    5: \"65 years and older\"\n",
    "}\n",
    "alc_015_by_age.index=alc_015_by_age.index.map(DHHGAGE_labels)\n",
    "alc_020_by_age.index=alc_020_by_age.index.map(DHHGAGE_labels)\n",
    "\n",
    "plt.figure(figsize=(14,6))\n",
    "plt.subplot(1,2,1)  \n",
    "alc_015_by_age.plot(kind='bar',color='coral')\n",
    "plt.title('Average Alcohol Consumption Frequency in Past 12 Months')\n",
    "plt.xlabel('Age Group')\n",
    "plt.ylabel('Average Alcohol Consumption Frequency')\n",
    "plt.xticks(rotation=45,ha='right')\n",
    "plt.grid(axis='y',linestyle='--',alpha=0.7)\n",
    "\n",
    "plt.subplot(1,2,2) \n",
    "plt.ylim(0,2.5)\n",
    "alc_020_by_age.plot(kind='bar',color='mediumblue')\n",
    "plt.title('Average Alcohol Consumption (Drink 4+/5+ One Occasion)')\n",
    "plt.xlabel('Age Group')\n",
    "plt.ylabel('Average Alcohol Consumption (Drink 4+/5+ One Occasion)')\n",
    "plt.xticks(rotation=45,ha='right')\n",
    "plt.grid(axis='y',linestyle='--',alpha=0.7)"
   ]
  },
  {
   "cell_type": "code",
   "execution_count": null,
   "id": "8e5353e1",
   "metadata": {},
   "outputs": [],
   "source": [
    "cannabis_region=df_q5[['CAN_015', 'GEOGPRV']].dropna()\n",
    "GEOGPRV_labels={\n",
    "    10: \"NEWFOUNDLAND AND LABRADOR\",\n",
    "    11: \"PRINCE EDWARD ISLAND\",\n",
    "    12: \"NOVA SCOTIA\",\n",
    "    13: \"NEW BRUNSWICK\",\n",
    "    24: \"QUEBEC\",\n",
    "    35: \"ONTARIO\",\n",
    "    46: \"MANITOBA\",\n",
    "    47: \"SASKATCHEWAN\",\n",
    "    48: \"ALBERTA\",\n",
    "    59: \"BRITISH COLUMBIA\",\n",
    "    60: \"YUKON/NORTHWEST/NUNAVUT TERRITORIES\"\n",
    "}\n",
    "cannabis_region['GEOGPRV']=cannabis_region['GEOGPRV'].map(GEOGPRV_labels)\n",
    "cannabis_byregion=cannabis_region.groupby('GEOGPRV')['CAN_015'].mean()\n",
    "\n",
    "plt.figure(figsize=(10,7))\n",
    "plt.ylim(0,2)\n",
    "cannabis_byregion.plot(kind='bar', color='olive')\n",
    "plt.title('Average Cannabis Use by Region')\n",
    "plt.xlabel('Region')\n",
    "plt.ylabel('Average Cannabis Use')\n",
    "plt.xticks(rotation=45, ha='right')\n",
    "plt.grid(axis='y',linestyle='--',alpha=0.7)\n",
    "plt.tight_layout()\n",
    "plt.show()"
   ]
  },
  {
   "cell_type": "code",
   "execution_count": null,
   "id": "51ed6ae8",
   "metadata": {},
   "outputs": [],
   "source": [
    "smoke_region=df_q5[['SMK_005', 'GEOGPRV']].dropna()\n",
    "GEOGPRV_labels={\n",
    "    10: \"NEWFOUNDLAND AND LABRADOR\",\n",
    "    11: \"PRINCE EDWARD ISLAND\",\n",
    "    12: \"NOVA SCOTIA\",\n",
    "    13: \"NEW BRUNSWICK\",\n",
    "    24: \"QUEBEC\",\n",
    "    35: \"ONTARIO\",\n",
    "    46: \"MANITOBA\",\n",
    "    47: \"SASKATCHEWAN\",\n",
    "    48: \"ALBERTA\",\n",
    "    59: \"BRITISH COLUMBIA\",\n",
    "    60: \"YUKON/NORTHWEST/NUNAVUT TERRITORIES\"\n",
    "}\n",
    "smoke_region['GEOGPRV']=smoke_region['GEOGPRV'].map(GEOGPRV_labels)\n",
    "smoke_byregion=smoke_region.groupby('GEOGPRV')['SMK_005'].mean()\n",
    "\n",
    "plt.figure(figsize=(10,7))\n",
    "smoke_byregion.plot(kind='bar',color='purple')\n",
    "plt.title('Average Smoke Frequency by Region')\n",
    "plt.xlabel('Region')\n",
    "plt.ylabel('Average Smoke Frequency')\n",
    "plt.xticks(rotation=45,ha='right')\n",
    "plt.grid(axis='y',linestyle='--',alpha=0.7)\n",
    "plt.tight_layout()\n",
    "plt.show()"
   ]
  },
  {
   "cell_type": "code",
   "execution_count": null,
   "id": "b9f96e6c",
   "metadata": {},
   "outputs": [],
   "source": [
    "alcohol_data_filtered=df_q5[['ALC_015', 'ALC_020', 'GEOGPRV']].dropna()\n",
    "alc_015_region=alcohol_data_filtered.groupby('GEOGPRV')['ALC_015'].mean()\n",
    "alc_020_region=alcohol_data_filtered.groupby('GEOGPRV')['ALC_020'].mean()\n",
    "GEOGPRV_labels={\n",
    "    10: \"NEWFOUNDLAND AND LABRADOR\",\n",
    "    11: \"PRINCE EDWARD ISLAND\",\n",
    "    12: \"NOVA SCOTIA\",\n",
    "    13: \"NEW BRUNSWICK\",\n",
    "    24: \"QUEBEC\",\n",
    "    35: \"ONTARIO\",\n",
    "    46: \"MANITOBA\",\n",
    "    47: \"SASKATCHEWAN\",\n",
    "    48: \"ALBERTA\",\n",
    "    59: \"BRITISH COLUMBIA\",\n",
    "    60: \"YUKON/NORTHWEST/NUNAVUT TERRITORIES\"\n",
    "}\n",
    "alc_015_region.index=alc_015_region.index.map(GEOGPRV_labels)\n",
    "alc_020_region.index=alc_020_region.index.map(GEOGPRV_labels)\n",
    "\n",
    "plt.figure(figsize=(14,6))\n",
    "\n",
    "plt.subplot(1,2,1)  \n",
    "alc_015_region.plot(kind='bar',color='coral')\n",
    "plt.title('Average Alcohol Consumption Frequency (Past 12 Months) By Region')\n",
    "plt.xlabel('Region Group')\n",
    "plt.ylabel('Average Alcohol Consumption Frequency')\n",
    "plt.xticks(rotation=45,ha='right')\n",
    "plt.grid(axis='y',linestyle='--',alpha=0.7)\n",
    "\n",
    "plt.subplot(1,2,2)  \n",
    "alc_020_region.plot(kind='bar',color='mediumblue')\n",
    "plt.title('Average Alcohol Consumption (Drink 4+/5+ One Occasion) By Region')\n",
    "plt.xlabel('Region Group')\n",
    "plt.ylabel('Average Alcohol Consumption (Drink 4+/5+ One Occasion)')\n",
    "plt.xticks(rotation=45,ha='right')\n",
    "plt.grid(axis='y',linestyle='--',alpha=0.7)"
   ]
  },
  {
   "cell_type": "code",
   "execution_count": null,
   "id": "6c955d06",
   "metadata": {},
   "outputs": [],
   "source": [
    "cannabis_education=df_q5[['CAN_015', 'EHG2DVH3']].dropna()\n",
    "EHG2DVH3_labels={\n",
    "    1: \"Less than secondary school graduation\",\n",
    "    2: \"Secondary school graduation, no post-secondary education\",\n",
    "    3: \"Post-secondary certificate/diploma/university degree\"\n",
    "}\n",
    "cannabis_education['EHG2DVH3']=cannabis_education['EHG2DVH3'].map(EHG2DVH3_labels)\n",
    "cannabis_education=cannabis_education.groupby('EHG2DVH3')['CAN_015'].mean()\n",
    "\n",
    "plt.figure(figsize=(8.5,7))\n",
    "cannabis_education.plot(kind='bar',color='olive',width=0.25)\n",
    "plt.title('Average Cannabis Use by Education Level')\n",
    "plt.xlabel('Education Level')\n",
    "plt.ylabel('Average Cannabis Use')\n",
    "plt.xticks(rotation=45, ha='right')\n",
    "plt.grid(axis='y',linestyle='--',alpha=0.7)\n",
    "plt.tight_layout()\n",
    "plt.show()"
   ]
  },
  {
   "cell_type": "code",
   "execution_count": null,
   "id": "4125f43a",
   "metadata": {},
   "outputs": [],
   "source": [
    "smoke_education=df_q5[['SMK_005', 'EHG2DVH3']].dropna()\n",
    "EHG2DVH3_labels={\n",
    "    1: \"Less than secondary school graduation\",\n",
    "    2: \"Secondary school graduation, no post-secondary education\",\n",
    "    3: \"Post-secondary certificate/diploma/university degree\"\n",
    "}\n",
    "smoke_education['EHG2DVH3']=smoke_education['EHG2DVH3'].map(EHG2DVH3_labels)\n",
    "smoke_education=smoke_education.groupby('EHG2DVH3')['SMK_005'].mean()\n",
    "\n",
    "plt.figure(figsize=(8, 7))\n",
    "plt.ylim(0,3)\n",
    "smoke_education.plot(kind='bar', color='purple', width=0.3)\n",
    "plt.title('Average Smoke Frequency by Education Level')\n",
    "plt.xlabel('Education Level')\n",
    "plt.ylabel('Average Smoke Frequency')\n",
    "plt.xticks(rotation=45,ha='right')\n",
    "plt.grid(axis='y',linestyle='--',alpha=0.7)\n",
    "plt.tight_layout()\n",
    "plt.show()"
   ]
  },
  {
   "cell_type": "code",
   "execution_count": null,
   "id": "dd46c591",
   "metadata": {},
   "outputs": [],
   "source": [
    "alcohol_education=df_q5[['ALC_015', 'ALC_020', 'EHG2DVH3']].dropna()\n",
    "alc_015_education=alcohol_education.groupby('EHG2DVH3')['ALC_015'].mean()\n",
    "alc_020_education=alcohol_education.groupby('EHG2DVH3')['ALC_020'].mean()\n",
    "\n",
    "EHG2DVH3_labels={\n",
    "    1: \"Less than secondary school graduation\",\n",
    "    2: \"Secondary school graduation, no post-secondary education\",\n",
    "    3: \"Post-secondary certificate/diploma/university degree\"\n",
    "}\n",
    "alc_015_education.index=alc_015_education.index.map(EHG2DVH3_labels)\n",
    "alc_020_education.index=alc_020_education.index.map(EHG2DVH3_labels)\n",
    "\n",
    "plt.figure(figsize=(14,8))\n",
    "\n",
    "plt.subplot(1,2,1)\n",
    "alc_015_education.plot(kind='bar',color='coral')\n",
    "plt.title('Average Alcohol Consumption by Education Level')\n",
    "plt.xlabel('Education Level')\n",
    "plt.ylabel('Average Alcohol Consumption')\n",
    "plt.xticks(rotation=45, ha='right')\n",
    "plt.grid(axis='y',linestyle='--',alpha=0.7)\n",
    "\n",
    "plt.subplot(1,2,2)\n",
    "alc_020_education.plot(kind='bar',color='mediumblue')\n",
    "plt.title('Average Alcohol Consumption by Education Level')\n",
    "plt.xlabel('Education Level')\n",
    "plt.ylabel('Average Alcohol Consumption')\n",
    "plt.xticks(rotation=45,ha='right')\n",
    "plt.grid(axis='y',linestyle='--',alpha=0.7)\n",
    "plt.tight_layout()\n",
    "plt.show()"
   ]
  },
  {
   "cell_type": "markdown",
   "id": "ad454d8c-36da-4982-a20a-f00907e7fc3d",
   "metadata": {},
   "source": [
    "### Health Drivers Vs. Health Improvements"
   ]
  },
  {
   "cell_type": "markdown",
   "id": "543219f4-e9a1-492c-a63b-604dbab29f5f",
   "metadata": {},
   "source": [
    "#### Question _ - What is the relationship between regular exercise and self-reported health status? "
   ]
  },
  {
   "cell_type": "markdown",
   "id": "7306b0b2-1953-45d2-9487-c9072e8a5323",
   "metadata": {},
   "source": [
    "#### Question _ - How do health improvement activities influence the maintenance or improvement of mental health? "
   ]
  },
  {
   "cell_type": "code",
   "execution_count": null,
   "id": "3db07f38-cb8d-4ef9-acdd-99c8fa5eb758",
   "metadata": {},
   "outputs": [],
   "source": []
  }
 ],
 "metadata": {
  "kernelspec": {
   "display_name": "Python 3 (ipykernel)",
   "language": "python",
   "name": "python3"
  },
  "language_info": {
   "codemirror_mode": {
    "name": "ipython",
    "version": 3
   },
   "file_extension": ".py",
   "mimetype": "text/x-python",
   "name": "python",
   "nbconvert_exporter": "python",
   "pygments_lexer": "ipython3",
   "version": "3.12.4"
  }
 },
 "nbformat": 4,
 "nbformat_minor": 5
}
