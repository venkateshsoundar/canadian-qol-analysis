{
 "cells": [
  {
   "cell_type": "code",
   "execution_count": 19,
   "id": "dfecafe3-46be-4edb-b853-5a0d1c937ba8",
   "metadata": {},
   "outputs": [
    {
     "name": "stdout",
     "output_type": "stream",
     "text": [
      "   ADM_RNO1   VERDATE     REFPER  GEOGPRV  GEODGHR4  DHH_SEX  DHHGMS  \\\n",
      "0      1000  20240531  2019-2020     47.0   47906.0      2.0     1.0   \n",
      "1    100005  20240531  2019-2020     47.0   47906.0      1.0     1.0   \n",
      "2    100012  20240531  2019-2020     59.0   59914.0      2.0     2.0   \n",
      "3    100015  20240531  2019-2020     13.0   13904.0      1.0     2.0   \n",
      "4    100018  20240531  2019-2020     46.0   46903.0      1.0     2.0   \n",
      "\n",
      "   DHHDGHSZ  ADM_PRX  DHHGAGE  ...  FSCDVHF2  INCG015  INCDGHH  INCDGRCA  \\\n",
      "0       2.0      2.0      3.0  ...       0.0      1.0      5.0       4.0   \n",
      "1       2.0      2.0      5.0  ...       0.0      2.0      4.0       2.0   \n",
      "2       1.0      2.0      5.0  ...       6.0      2.0      2.0       1.0   \n",
      "3       1.0      2.0      5.0  ...       0.0      2.0      3.0       3.0   \n",
      "4       1.0      2.0      4.0  ...       0.0      2.0      1.0       1.0   \n",
      "\n",
      "   INCDGRPR  INCDGRRS  ADM_040  ADM_045  ADM_050   WTS_M  \n",
      "0       4.0       4.0      1.0      1.0      6.0  762.82  \n",
      "1       2.0       2.0      6.0      1.0      6.0   31.78  \n",
      "2       1.0       1.0      2.0      1.0      6.0   59.24  \n",
      "3       3.0       9.0      6.0      1.0      6.0   22.83  \n",
      "4       1.0       9.0      2.0      1.0      6.0   39.96  \n",
      "\n",
      "[5 rows x 691 columns]\n"
     ]
    }
   ],
   "source": [
    "import pandas as pd\n",
    "\n",
    "# Load the CSV file\n",
    "file_path = r'C:\\Users\\agelf\\Documents\\School\\U of C\\Masters of Data Science and Analytics\\Data 601\\Group Assignment\\2019-2020_CSV\\Data_Donnees\\pumf_cchs.csv'\n",
    "df = pd.read_csv(file_path)\n",
    "\n",
    "# Display the first few rows of the dataframe\n",
    "print(df.head())\n"
   ]
  },
  {
   "cell_type": "code",
   "execution_count": 21,
   "id": "e9f94582-6a38-41ab-9bb7-638b80ea81d3",
   "metadata": {},
   "outputs": [
    {
     "name": "stdout",
     "output_type": "stream",
     "text": [
      "Dimensions of the dataset: (108252, 691)\n"
     ]
    }
   ],
   "source": [
    "print(\"Dimensions of the dataset:\", df.shape)"
   ]
  },
  {
   "cell_type": "markdown",
   "id": "2cb3d0ff-9c9a-4341-861b-f382a11479e3",
   "metadata": {},
   "source": [
    "#Question 3\n",
    "How does alcohol consumption affect mental health among different age groups? \n",
    "Variables of interest\n",
    "\n",
    "* ALC_015: frequency of alcohol use in 12 months, discrete 01-07\n",
    "* ALC_020: 5+/4+ drinks on one occasion frequency (binge drinking), discrete 01-06\n",
    "* GEN_010: satisfaction with life in general, discrete 1-10 \n",
    "* GEN_015: self perceived mental health, discrete 1-5\n",
    "* GEN_020: perceived life stress, discrete 1-5\n",
    "* GEN_025: work stress, discrete 1-5\n",
    "* CCC_195: mood disorders, discrete 1-2\n"
   ]
  },
  {
   "cell_type": "code",
   "execution_count": 23,
   "id": "173d8f8c-fcb8-4f3e-a4fb-ade442f3b239",
   "metadata": {},
   "outputs": [],
   "source": [
    "df_general=df.copy()"
   ]
  },
  {
   "cell_type": "code",
   "execution_count": 31,
   "id": "78f1fcc8-f167-4f2b-a504-5f67aa7fdf38",
   "metadata": {},
   "outputs": [
    {
     "name": "stdout",
     "output_type": "stream",
     "text": [
      "   ALC_015  ALC_020  GEN_010  GEN_015  GEN_020  GEN_025  CCC_195\n",
      "0      5.0      3.0      9.0      3.0      2.0      2.0      2.0\n",
      "1      1.0      1.0      4.0      3.0      3.0      6.0      1.0\n",
      "2     96.0     96.0      7.0      3.0      3.0      6.0      2.0\n",
      "3     96.0     96.0      8.0      3.0      3.0      6.0      2.0\n",
      "4     96.0     96.0      0.0      5.0      4.0      6.0      2.0\n"
     ]
    }
   ],
   "source": [
    "#This should filter all of the variables we want on the general level. You will need to determine which variables you will use\n",
    "#IMPORTANT I did not include all the CCC values for chronic disease here. I can look and see what we need, and try to adjust shortly\n",
    "#If you think anything is missing here, feel free to change\n",
    "df_general=df_general.filter(items=[\n",
    "    'ALC_015',\n",
    "    'ALC_020',\n",
    "    'GEN_010',\n",
    "    'GEN_015',\n",
    "    'GEN_020',\n",
    "    'GEN_025',\n",
    "    'CCC_195',\n",
    "    'GEN_005',\n",
    "    'HWTDGISW',\n",
    "    'CAN_015',\n",
    "    'SMK_005',\n",
    "    'SMK_060',\n",
    "    'PAADVACV',\n",
    "    'PAA_030',\n",
    "    'PAA_060',\n",
    "    'PAA_095',\n",
    "    'SBE_005',\n",
    "    'SBE_010',\n",
    "    'PAA_005',\n",
    "    'DHHGAGE',\n",
    "    'DHH_SEX',\n",
    "    'GEOGPRV',\n",
    "    'EHG2DVH3'\n",
    "    ])\n",
    "print(df_general.head())"
   ]
  },
  {
   "cell_type": "code",
   "execution_count": 37,
   "id": "9ed926a2-a5e5-4144-ac6b-8571e58fd4a7",
   "metadata": {},
   "outputs": [],
   "source": [
    "df_general.to_csv('Question_3.csv',index=False)"
   ]
  },
  {
   "cell_type": "code",
   "execution_count": 45,
   "id": "38d331b2-73da-40fb-814a-b86bf0c1061b",
   "metadata": {},
   "outputs": [
    {
     "name": "stdout",
     "output_type": "stream",
     "text": [
      "<class 'pandas.core.frame.DataFrame'>\n",
      "RangeIndex: 108252 entries, 0 to 108251\n",
      "Data columns (total 7 columns):\n",
      " #   Column   Non-Null Count   Dtype  \n",
      "---  ------   --------------   -----  \n",
      " 0   ALC_015  108252 non-null  float64\n",
      " 1   ALC_020  108252 non-null  float64\n",
      " 2   GEN_010  108252 non-null  float64\n",
      " 3   GEN_015  108252 non-null  float64\n",
      " 4   GEN_020  108252 non-null  float64\n",
      " 5   GEN_025  108252 non-null  float64\n",
      " 6   CCC_195  108252 non-null  float64\n",
      "dtypes: float64(7)\n",
      "memory usage: 5.8 MB\n"
     ]
    }
   ],
   "source": [
    "df_general.info()"
   ]
  },
  {
   "cell_type": "code",
   "execution_count": 48,
   "id": "e10daf0b-17e4-4cf3-b74e-e5523da8e5bb",
   "metadata": {},
   "outputs": [
    {
     "data": {
      "text/html": [
       "<div>\n",
       "<style scoped>\n",
       "    .dataframe tbody tr th:only-of-type {\n",
       "        vertical-align: middle;\n",
       "    }\n",
       "\n",
       "    .dataframe tbody tr th {\n",
       "        vertical-align: top;\n",
       "    }\n",
       "\n",
       "    .dataframe thead th {\n",
       "        text-align: right;\n",
       "    }\n",
       "</style>\n",
       "<table border=\"1\" class=\"dataframe\">\n",
       "  <thead>\n",
       "    <tr style=\"text-align: right;\">\n",
       "      <th></th>\n",
       "      <th>ALC_015</th>\n",
       "      <th>ALC_020</th>\n",
       "      <th>GEN_010</th>\n",
       "      <th>GEN_015</th>\n",
       "      <th>GEN_020</th>\n",
       "      <th>GEN_025</th>\n",
       "      <th>CCC_195</th>\n",
       "    </tr>\n",
       "  </thead>\n",
       "  <tbody>\n",
       "    <tr>\n",
       "      <th>count</th>\n",
       "      <td>108252.000000</td>\n",
       "      <td>108252.000000</td>\n",
       "      <td>108252.000000</td>\n",
       "      <td>108252.000000</td>\n",
       "      <td>108252.000000</td>\n",
       "      <td>108252.000000</td>\n",
       "      <td>108252.000000</td>\n",
       "    </tr>\n",
       "    <tr>\n",
       "      <th>mean</th>\n",
       "      <td>28.728975</td>\n",
       "      <td>27.678306</td>\n",
       "      <td>11.575176</td>\n",
       "      <td>2.381148</td>\n",
       "      <td>2.595324</td>\n",
       "      <td>4.833509</td>\n",
       "      <td>1.914912</td>\n",
       "    </tr>\n",
       "    <tr>\n",
       "      <th>std</th>\n",
       "      <td>41.177029</td>\n",
       "      <td>41.984238</td>\n",
       "      <td>17.585827</td>\n",
       "      <td>1.562486</td>\n",
       "      <td>1.060638</td>\n",
       "      <td>1.667734</td>\n",
       "      <td>0.371765</td>\n",
       "    </tr>\n",
       "    <tr>\n",
       "      <th>min</th>\n",
       "      <td>1.000000</td>\n",
       "      <td>1.000000</td>\n",
       "      <td>0.000000</td>\n",
       "      <td>1.000000</td>\n",
       "      <td>1.000000</td>\n",
       "      <td>1.000000</td>\n",
       "      <td>1.000000</td>\n",
       "    </tr>\n",
       "    <tr>\n",
       "      <th>25%</th>\n",
       "      <td>2.000000</td>\n",
       "      <td>1.000000</td>\n",
       "      <td>7.000000</td>\n",
       "      <td>1.000000</td>\n",
       "      <td>2.000000</td>\n",
       "      <td>3.000000</td>\n",
       "      <td>2.000000</td>\n",
       "    </tr>\n",
       "    <tr>\n",
       "      <th>50%</th>\n",
       "      <td>5.000000</td>\n",
       "      <td>2.000000</td>\n",
       "      <td>8.000000</td>\n",
       "      <td>2.000000</td>\n",
       "      <td>3.000000</td>\n",
       "      <td>6.000000</td>\n",
       "      <td>2.000000</td>\n",
       "    </tr>\n",
       "    <tr>\n",
       "      <th>75%</th>\n",
       "      <td>96.000000</td>\n",
       "      <td>96.000000</td>\n",
       "      <td>10.000000</td>\n",
       "      <td>3.000000</td>\n",
       "      <td>3.000000</td>\n",
       "      <td>6.000000</td>\n",
       "      <td>2.000000</td>\n",
       "    </tr>\n",
       "    <tr>\n",
       "      <th>max</th>\n",
       "      <td>99.000000</td>\n",
       "      <td>99.000000</td>\n",
       "      <td>99.000000</td>\n",
       "      <td>9.000000</td>\n",
       "      <td>8.000000</td>\n",
       "      <td>9.000000</td>\n",
       "      <td>8.000000</td>\n",
       "    </tr>\n",
       "  </tbody>\n",
       "</table>\n",
       "</div>"
      ],
      "text/plain": [
       "             ALC_015        ALC_020        GEN_010        GEN_015  \\\n",
       "count  108252.000000  108252.000000  108252.000000  108252.000000   \n",
       "mean       28.728975      27.678306      11.575176       2.381148   \n",
       "std        41.177029      41.984238      17.585827       1.562486   \n",
       "min         1.000000       1.000000       0.000000       1.000000   \n",
       "25%         2.000000       1.000000       7.000000       1.000000   \n",
       "50%         5.000000       2.000000       8.000000       2.000000   \n",
       "75%        96.000000      96.000000      10.000000       3.000000   \n",
       "max        99.000000      99.000000      99.000000       9.000000   \n",
       "\n",
       "             GEN_020        GEN_025        CCC_195  \n",
       "count  108252.000000  108252.000000  108252.000000  \n",
       "mean        2.595324       4.833509       1.914912  \n",
       "std         1.060638       1.667734       0.371765  \n",
       "min         1.000000       1.000000       1.000000  \n",
       "25%         2.000000       3.000000       2.000000  \n",
       "50%         3.000000       6.000000       2.000000  \n",
       "75%         3.000000       6.000000       2.000000  \n",
       "max         8.000000       9.000000       8.000000  "
      ]
     },
     "execution_count": 48,
     "metadata": {},
     "output_type": "execute_result"
    }
   ],
   "source": [
    "df_general.describe()"
   ]
  },
  {
   "cell_type": "code",
   "execution_count": 57,
   "id": "42015b8b-f195-4fce-85ab-866e4a268b9f",
   "metadata": {},
   "outputs": [
    {
     "data": {
      "text/plain": [
       "ALC_015    float64\n",
       "ALC_020    float64\n",
       "GEN_010    float64\n",
       "GEN_015    float64\n",
       "GEN_020    float64\n",
       "GEN_025    float64\n",
       "CCC_195    float64\n",
       "dtype: object"
      ]
     },
     "execution_count": 57,
     "metadata": {},
     "output_type": "execute_result"
    }
   ],
   "source": [
    "df_general.dtypes"
   ]
  },
  {
   "cell_type": "code",
   "execution_count": null,
   "id": "cb1cd0b0-0dcc-464e-9695-65f650303c4a",
   "metadata": {},
   "outputs": [],
   "source": [
    "#probably use .drop of some variables like 96, etc\n",
    "\n",
    "#Use df.groupby('X')['Y'].mean() to group the DF by the X column, so all rows with the same X are grouped together.\n",
    "#The ['Y'] indicates we are interested in the 'Y' amount for each group\n",
    "#.mean() calculates the mean of Y for each group"
   ]
  }
 ],
 "metadata": {
  "kernelspec": {
   "display_name": "Python 3 (ipykernel)",
   "language": "python",
   "name": "python3"
  },
  "language_info": {
   "codemirror_mode": {
    "name": "ipython",
    "version": 3
   },
   "file_extension": ".py",
   "mimetype": "text/x-python",
   "name": "python",
   "nbconvert_exporter": "python",
   "pygments_lexer": "ipython3",
   "version": "3.12.4"
  }
 },
 "nbformat": 4,
 "nbformat_minor": 5
}
