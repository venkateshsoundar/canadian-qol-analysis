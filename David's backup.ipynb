{
 "cells": [
  {
   "cell_type": "markdown",
   "id": "1401bb30-3c15-4110-a620-a5bdc0b18725",
   "metadata": {},
   "source": [
    "## Introduction\n",
    "\n",
    "Quality of life (QoL) refers to an individual's perception of their position in life, covering physical health, mental health, and social relationships, relative to their expectations and cultural context (World Health Organization, 1995).  In health research, QoL is affected by many factors, including health drivers and health barriers.  Health drivers such as physical activity and mental health consultations typically have a positive influence on QoL, while health barriers like smoking, alcohol consumption, and cannabis use are often linked to negative health outcomes (Haskell et al. 2007; Rehm et al., 2009).  \n",
    "\n",
    "This project aims to explore the relationship between these health drivers and barriers, focusing on their impact on physical and mental health outcomes.  Using Visualizations and correlation statistics, we will analyze variables such as body mass index (BMI), self-reported health status, and stress to evaluate the influence of health barriers.  Following this, we will perform subgroup analyses to determine how age, sex, region, and education are impacted by these health barriers. Depending on our findings we will either help identify the most vulnerable populations and suggest targeted interventions to improve their QoL, or try to suggest more appropriate ways to analyze this dataset. \n",
    "\n",
    "## Dataset and Guiding Questions\n",
    "\n",
    "We chose the Canadian Community Health Survey as our dataset. Specifically, we will be using the 2019-2020 microdata file available at Statistics Canada (Statistics Canada, 2023).  \n",
    "\n",
    "The Canadian Community Health Survey is an annual survey that collects data from respondents across Canada and differentiates them by their province and respective health regions. The survey is voluntary response but is designed to have a large representative sample, all identifying data is removed prior to the release of the microdata file. The survey collects data on a wide variety of health indicators, potential health determinants, and plenty of demographic data to assist in analysis. The datafile comes in the form of a CSV file and comes with a data dictionary and a very accessible format given the sheer size of the CSV file.  \n",
    "\n",
    "The dataset has 691 individual columns including the respondent’s record number with the columns representing the variables. For each of these 691 variables there are 108,252 individual responses as the rows for the data file. We plan to choose a specific number of variables and analyze them according to the questions listed below. \n",
    "\n",
    "Our guiding questions can be listed into two categories:\n",
    "\n",
    "a. Health Drivers Vs. Health Barriers\n",
    "   1. How does alcohol consumption affect mental health among different age groups?\n",
    "   2. How does cannabis use impact stress levels?\n",
    "   3. What is the relationship between smoking and physical health outcomes?\n",
    "   4. Which demographic groups (age, sex, region) are most affected by health barriers?\n",
    "   \n",
    "b. Health Drivers Vs. Health Improvements\n",
    "   1. What is the relationship between regular exercise and self-reported health status?\n",
    "   2. How does stress influence the maintenance or improvement of mental health?"
   ]
  },
  {
   "cell_type": "code",
   "execution_count": 4,
   "id": "ea4372a9-5941-4ccd-ade7-180fb27199bb",
   "metadata": {},
   "outputs": [],
   "source": [
    "#Make sure all appropriate libraries loaded\n",
    "import pandas as pd\n",
    "import numpy as np\n",
    "import seaborn as sns\n",
    "import matplotlib.pyplot as plt\n",
    "import statsmodels.api as sm\n",
    "from statsmodels.formula.api import ols\n",
    "import plotly.express as px\n",
    "from pydataset import data\n"
   ]
  },
  {
   "cell_type": "code",
   "execution_count": 7,
   "id": "5cbd3d6e-8aac-4873-9b9e-2b2b586c91c7",
   "metadata": {},
   "outputs": [],
   "source": [
    "#Load dataset attached to submission\n",
    "df=pd.read_csv('pumf_cchs.csv')"
   ]
  },
  {
   "cell_type": "code",
   "execution_count": 15,
   "id": "3aec4262-49f1-450b-a5d0-9794f774e94e",
   "metadata": {},
   "outputs": [
    {
     "name": "stdout",
     "output_type": "stream",
     "text": [
      "   ALC_015  ALC_020  GEN_010  GEN_015  GEN_020  GEN_025  CCC_195  GEN_005  \\\n",
      "0      5.0      3.0      9.0      3.0      2.0      2.0      2.0      3.0   \n",
      "1      1.0      1.0      4.0      3.0      3.0      6.0      1.0      3.0   \n",
      "2     96.0     96.0      7.0      3.0      3.0      6.0      2.0      2.0   \n",
      "3     96.0     96.0      8.0      3.0      3.0      6.0      2.0      3.0   \n",
      "4     96.0     96.0      0.0      5.0      4.0      6.0      2.0      5.0   \n",
      "\n",
      "   HWTDGISW  CAN_015  ...  SBE_010  PAA_005  DHHGAGE  DHH_SEX  GEOGPRV  \\\n",
      "0       1.0      2.0  ...      6.0      2.0      3.0      2.0     47.0   \n",
      "1       2.0      2.0  ...      6.0      2.0      5.0      1.0     47.0   \n",
      "2       2.0      2.0  ...      1.0      6.0      5.0      2.0     59.0   \n",
      "3       2.0      2.0  ...      6.0      6.0      5.0      1.0     13.0   \n",
      "4       2.0      2.0  ...      6.0      6.0      4.0      1.0     46.0   \n",
      "\n",
      "   EHG2DVH3  HWT_050  PEX_005  ADM_RNO1  GENDVHDI  \n",
      "0       3.0      3.0     96.0      1000       2.0  \n",
      "1       2.0      1.0     96.0    100005       2.0  \n",
      "2       1.0      1.0     96.0    100012       3.0  \n",
      "3       1.0      1.0     96.0    100015       2.0  \n",
      "4       3.0      3.0     96.0    100018       0.0  \n",
      "\n",
      "[5 rows x 27 columns]\n"
     ]
    }
   ],
   "source": [
    "#This should filter all of the variables we want on the general level. You will need to determine which variables you will use\n",
    "#IMPORTANT I did not include all the CCC values for chronic disease here. I can look and see what we need, and try to adjust shortly\n",
    "#If you think anything is missing here, feel free to change\n",
    "df_general=df.filter(items=[\n",
    "    'ALC_015',\n",
    "    'ALC_020',\n",
    "    'GEN_010',\n",
    "    'GEN_015',\n",
    "    'GEN_020',\n",
    "    'GEN_025',\n",
    "    'CCC_195',\n",
    "    'GEN_005',\n",
    "    'HWTDGISW',\n",
    "    'CAN_015',\n",
    "    'SMK_005',\n",
    "    'SMK_060',\n",
    "    'PAADVACV',\n",
    "    'PAA_030',\n",
    "    'PAA_060',\n",
    "    'PAA_095',\n",
    "    'SBE_005',\n",
    "    'SBE_010',\n",
    "    'PAA_005',\n",
    "    'DHHGAGE',\n",
    "    'DHH_SEX',\n",
    "    'GEOGPRV',\n",
    "    'EHG2DVH3',\n",
    "    'HWT_050',\n",
    "    'PEX_005',\n",
    "    'ADM_RNO1',\n",
    "    'GENDVHDI'\n",
    "    ])\n",
    "print(df_general.head())"
   ]
  },
  {
   "cell_type": "markdown",
   "id": "f9b47c85-b4bb-4bfe-bd57-c10c834dd3f1",
   "metadata": {},
   "source": [
    "## Analysis"
   ]
  },
  {
   "cell_type": "markdown",
   "id": "54aebbe1-e6e5-46ef-aec9-d00c0be678fb",
   "metadata": {},
   "source": [
    "### Health Drivers Vs. Health Barriers"
   ]
  },
  {
   "cell_type": "markdown",
   "id": "32c97111-d5f5-4e38-a8c4-9a08cf6f79a1",
   "metadata": {},
   "source": [
    "#### Question 1 - How does alcohol consumption affect mental health among different age groups? "
   ]
  },
  {
   "cell_type": "markdown",
   "id": "e42fcd67",
   "metadata": {},
   "source": [
    "To determine how Alcohol Consumption Affected Mental Health Among Different Age Groups, the data was first cleaned.  Due to the size of the initial dataset, any data columns containing unnecessary variables were removed.  Following this, it was made sure there were no missing values, and removed any values that were of no interest to my analysis, such as ‘valid skip’, do not know, and refuse to say.​  As they were not pertinent to the analysis, we felt it was safe to remove them."
   ]
  },
  {
   "cell_type": "code",
   "execution_count": null,
   "id": "052de507",
   "metadata": {},
   "outputs": [],
   "source": [
    "#Make a copy of our initial filtered data, and then filter for our question\n",
    "df3=df_general.copy()\n",
    "df_q3=df3.filter(items=['ALC_015','ALC_020','GEN_010','GEN_015','GEN_020','GEN_025','CCC_195','DHHGAGE'])"
   ]
  },
  {
   "cell_type": "code",
   "execution_count": null,
   "id": "641d1249",
   "metadata": {},
   "outputs": [],
   "source": [
    "#Some basic info on the dataset\n",
    "print(df_q3.shape)\n",
    "print(df_q3.info())"
   ]
  },
  {
   "cell_type": "code",
   "execution_count": null,
   "id": "1a0b90c9",
   "metadata": {},
   "outputs": [],
   "source": [
    "#Ensure no null values\n",
    "print(df_q3.isnull().sum())"
   ]
  },
  {
   "cell_type": "code",
   "execution_count": null,
   "id": "fb0348db",
   "metadata": {},
   "outputs": [],
   "source": [
    "#Removed invalid values that relected responses like unknown, did not answer, or valid skip\n",
    "df_q3=df_q3[~df_q3['GEN_010'].isin(range(97,100))]\n",
    "df_q3=df_q3[~df_q3['GEN_015'].isin(range(7,10))]\n",
    "df_q3=df_q3[~df_q3['GEN_020'].isin(range(7,9))]\n",
    "df_q3=df_q3[~df_q3['GEN_025'].isin(range(6,10))]\n",
    "df_q3=df_q3[~df_q3['ALC_015'].isin(range(96,100))]\n",
    "df_q3=df_q3[~df_q3['ALC_020'].isin(range(96,100))]\n",
    "df_q3=df_q3[~df_q3['CCC_195'].isin(range(7,9))]"
   ]
  },
  {
   "cell_type": "markdown",
   "id": "8eb7799c",
   "metadata": {},
   "source": [
    "Upon inspection of the data dictionary, it was discovered that some likret scales went in the direction of negative to positive, while other went from positive to negative.  To avoid confusion, the variable order was changed so that all progressed in a single logical direction​."
   ]
  },
  {
   "cell_type": "code",
   "execution_count": null,
   "id": "7da39222",
   "metadata": {},
   "outputs": [],
   "source": [
    "#Convert GEN_015,_020,_025 so they progress in a logical orderm with 1=more negative and 5=more positive\n",
    "gen_015_new_order={1:5,2:4,3:3,4:2,5:1}\n",
    "gen_020_new_order={1:5,2:4,3:3,4:2,5:1}\n",
    "gen_025_new_order={1:5,2:4,3:3,4:2,5:1}\n",
    "\n",
    "df_q3['GEN_015'] = df_q3['GEN_015'].map(gen_015_new_order)\n",
    "df_q3['GEN_020'] = df_q3['GEN_020'].map(gen_015_new_order)\n",
    "df_q3['GEN_025'] = df_q3['GEN_025'].map(gen_015_new_order)"
   ]
  },
  {
   "cell_type": "code",
   "execution_count": null,
   "id": "e3e354f4",
   "metadata": {},
   "outputs": [],
   "source": [
    "#Create labels that represent the values listed in the data dictionary\n",
    "perceived_mental_health={1: 'Poor', 2: 'Fair', 3: 'Good', 4: 'Very good', 5: 'Excellent'}\n",
    "perceived_life_stress= {1: 'Extremely stressful',2: 'Quite a bit stressful',3: 'A bit stressful',4: 'Not very stressful',5: 'Not at all stressful'}\n",
    "perceived_work_stress={1: 'Extremely stressful',2: 'Quite a bit stressful',3: 'A bit stressful',4: 'Not very stressful',5: 'Not at all stressful'}\n",
    "alc_freq={\n",
    "    1: 'Less than once/month',2: 'Once/month',3: '2-3 times/month',\n",
    "    4: 'Once/week',5: '2-3 times/week',6: '4-6 times/week',7: 'Every day'}\n",
    "alc_binge_freq= {1: 'Never',2: 'Less than once/month',3: 'Once/month',4: '2-3 times/month',\n",
    "                 5: 'Once/week',6: 'More than once/week',}\n",
    "age_group={1:\"12 to 17 years\",2:\"18 to 34 years\",3:\"35 to 49 years\",4:\"50 to 64 years\",5:\"65 and older\"}"
   ]
  },
  {
   "cell_type": "code",
   "execution_count": null,
   "id": "91e4ba8d",
   "metadata": {},
   "outputs": [],
   "source": [
    "#Create new columns that list the previously created labels\n",
    "df_q3[\"perceived_mental_health\"] = df_q3[[\"GEN_015\"]].copy().replace({\"GEN_015\": perceived_mental_health})\n",
    "df_q3[\"perceived_life_stress\"] = df_q3[[\"GEN_020\"]].copy().replace({\"GEN_020\": perceived_life_stress})\n",
    "df_q3[\"perceived_work_stress\"] = df_q3[[\"GEN_025\"]].copy().replace({\"GEN_025\": perceived_work_stress})\n",
    "df_q3[\"alc_freq\"] = df_q3[[\"ALC_015\"]].copy().replace({\"ALC_015\": alc_freq})\n",
    "df_q3[\"alc_binge_freq\"] = df_q3[[\"ALC_020\"]].copy().replace({\"ALC_020\": alc_binge_freq})\n",
    "df_q3[\"age_group\"] = df_q3[[\"DHHGAGE\"]].copy().replace({\"DHHGAGE\": age_group})"
   ]
  },
  {
   "cell_type": "code",
   "execution_count": null,
   "id": "44eb6779",
   "metadata": {},
   "outputs": [],
   "source": [
    "#Make a copy of the dataset, so if we make a mistake we don't need to start from the beginning\n",
    "df_q3a=df_q3.copy()"
   ]
  },
  {
   "cell_type": "code",
   "execution_count": null,
   "id": "55138ae7",
   "metadata": {},
   "outputs": [],
   "source": [
    "#Create a correlation amongst our variables of interest, and then plot them in a heatmap\n",
    "labels = {\n",
    "    'ALC_015': 'Alcohol Use Frequency',\n",
    "    'ALC_020': 'Binge Drinking Frequency',\n",
    "    'GEN_010': 'Life Satisfaction',\n",
    "    'GEN_015': 'Self-Perceived Mental Health',\n",
    "    'GEN_020': 'Perceived Life Stress',\n",
    "    'CCC_195': 'Mood Disorders',\n",
    "    'DHHGAGE': 'Age Group'\n",
    "}\n",
    "correlations = df_q3a[['ALC_015', 'ALC_020', 'GEN_010', 'GEN_015', 'GEN_020', 'CCC_195','DHHGAGE']].corr()\n",
    "correlations.rename(columns=labels,index=labels, inplace=True)\n",
    "print(\"Correlation Matrix:\")\n",
    "print(correlations)\n",
    "\n",
    "#correlation heatmap\n",
    "sns.heatmap(correlations, annot=True, cmap='coolwarm', center=0)\n",
    "plt.title(\"Correlation Between Alcohol Use and Mental Health Variables\")\n",
    "\n",
    "plt.show()\n"
   ]
  },
  {
   "cell_type": "markdown",
   "id": "3c63166b",
   "metadata": {},
   "source": [
    "Based on our correlation of all our variables of interest, we most see weak relationships, with a few moderate relationships, none of which were very surprising.  The strongest relationships were seen between alcohol consumpiton frequency and binge drinking frequency, and between life satisfaction and self-perceived mental health.  We also see a weak correlation between any alcohol consumption variables and mental health variables."
   ]
  },
  {
   "cell_type": "code",
   "execution_count": null,
   "id": "27bc896d",
   "metadata": {},
   "outputs": [],
   "source": [
    "#Create multiple correlations based on age group\n",
    "def correlation_by_age_group(df_q3a, age_groups):\n",
    "    subset = df[df['DHHGAGE'] == age_groups]\n",
    "    correlation_matrix = subset[['ALC_015', 'ALC_020', 'GEN_010', 'GEN_015', 'GEN_020', 'CCC_195']].corr()\n",
    "    return correlation_matrix\n",
    "\n",
    "correlation_age_2 = correlation_by_age_group(df_q3a, 2)\n",
    "correlation_age_3 = correlation_by_age_group(df_q3a, 3)\n",
    "correlation_age_4 = correlation_by_age_group(df_q3a, 4)\n",
    "print(correlation_age_2,'\\n')\n",
    "print(correlation_age_3,'\\n')\n",
    "print(correlation_age_4,'\\n')"
   ]
  },
  {
   "cell_type": "code",
   "execution_count": null,
   "id": "d5503d91",
   "metadata": {},
   "outputs": [],
   "source": [
    "#Plot the different heatmap for each correlation based on age group\n",
    "labels = {\n",
    "    'ALC_015': 'Alcohol Use Frequency',\n",
    "    'ALC_020': 'Binge Drinking Frequency',\n",
    "    'GEN_010': 'Life Satisfaction',\n",
    "    'GEN_015': 'Self-Perceived Mental Health',\n",
    "    'GEN_020': 'Perceived Life Stress',\n",
    "    'CCC_195': 'Mood Disorders',\n",
    "    'DHHGAGE': 'Age Group'\n",
    "}\n",
    "\n",
    "\n",
    "correlation_age_2 = correlation_by_age_group(df_q3a, 2)\n",
    "correlation_age_3 = correlation_by_age_group(df_q3a, 3)\n",
    "correlation_age_4 = correlation_by_age_group(df_q3a, 4)\n",
    "\n",
    "correlation_age_2.rename(columns=labels,index=labels, inplace=True)\n",
    "correlation_age_3.rename(columns=labels,index=labels, inplace=True)\n",
    "correlation_age_4.rename(columns=labels,index=labels, inplace=True)\n",
    "\n",
    "#heatmaps for the 3 age groups\n",
    "fig, axes = plt.subplots(2, 2, figsize=(12, 10))\n",
    "\n",
    "sns.heatmap(correlation_age_2, annot=True, cmap='coolwarm', center=0, ax=axes[0, 0])\n",
    "axes[0, 0].set_title('Correlation Heatmap for Age Group 18-34')\n",
    "\n",
    "sns.heatmap(correlation_age_3, annot=True, cmap='coolwarm', center=0, ax=axes[0, 1])\n",
    "axes[0, 1].set_title('Correlation Heatmap for Age Group 35-49')\n",
    "\n",
    "sns.heatmap(correlation_age_4, annot=True, cmap='coolwarm', center=0, ax=axes[1, 0])\n",
    "axes[1, 0].set_title('Correlation Heatmap for Age Group 50-64')\n",
    "\n",
    "fig.delaxes(axes[1, 1])  #rmv empty plot\n",
    "\n",
    "plt.tight_layout()\n",
    "plt.show()"
   ]
  },
  {
   "cell_type": "markdown",
   "id": "3ee144b5",
   "metadata": {},
   "source": [
    "From the above output, we can see the correlations of our variables of interest, segmented by age categories. By segmenting by age categories we are able to highlight how differening age groups experience the relationships between alcohol use and mental health differently. A few things to note are:\n",
    "\n",
    "- The relationship between alcohol consumption frequency and binge drinking frequency is stronger for all age groups.\n",
    "- The relationship between self-perceived mental health and life satisfaction is highest in the 18-34 age group.\n",
    "- The relationship between self-perceived mental health and mood disorders has a negative correlation for all age groups, suggesting that individuals with mood disorders are will more frequently have lower self-perceived mental health\n",
    "- The relationship between perceived life stress and mood disorders has a negative correlation for all age groups, suggesting that those with mood disorders are more life to have higher perceived life stress\n",
    "\n",
    "Despite this, similar to our previous correlation with all variables, we continue to see a weak correlation between alcohol consumption variables and mental health variables, indicating that there are additional variables that play a large role in affecting mental health."
   ]
  },
  {
   "cell_type": "code",
   "execution_count": null,
   "id": "6e66cead",
   "metadata": {},
   "outputs": [],
   "source": [
    "#Look at the mean value for the various age groups for each variable of interest\n",
    "age_group_means = df_q3a.groupby('age_group')[['ALC_015', 'ALC_020', 'GEN_010', 'GEN_015', 'GEN_020', 'GEN_025', 'CCC_195']].mean()\n",
    "\n",
    "print(age_group_means)"
   ]
  },
  {
   "cell_type": "code",
   "execution_count": null,
   "id": "75bdb64e",
   "metadata": {},
   "outputs": [],
   "source": [
    "#Creates a dataframe to give the proportion of GEN_015, grouped by ALC_015\n",
    "avg_counts_alc_freq=df_q3a.groupby('ALC_015', as_index=False)['GEN_015'].value_counts(normalize=True, sort=False)\n",
    "avg_counts_alc_freq"
   ]
  },
  {
   "cell_type": "code",
   "execution_count": null,
   "id": "c97771e4",
   "metadata": {},
   "outputs": [],
   "source": [
    "#Plotting alcohol consumption freq and perceived mental health proportions\n",
    "#change the color palette\n",
    "cmap = plt.get_cmap('coolwarm') \n",
    "colors = cmap(np.linspace(0, 1, 5))\n",
    "\n",
    "plt.figure().set_figwidth(16)\n",
    "plt.bar(avg_counts_alc_freq['ALC_015'].unique()-0.2, avg_counts_alc_freq['proportion'][::5], width=0.1, label='Poor', color=colors[0])\n",
    "plt.bar(avg_counts_alc_freq['ALC_015'].unique()-0.1, avg_counts_alc_freq['proportion'][1::5], width=0.1, label='Fair', color=colors[1])\n",
    "plt.bar(avg_counts_alc_freq['ALC_015'].unique(), avg_counts_alc_freq['proportion'][2::5], width=0.1, label='Good', color=colors[2])\n",
    "plt.bar(avg_counts_alc_freq['ALC_015'].unique()+0.1, avg_counts_alc_freq['proportion'][3::5], width=0.1, label='Very good', color=colors[3])\n",
    "plt.bar(avg_counts_alc_freq['ALC_015'].unique()+0.2, avg_counts_alc_freq['proportion'][4::5], width=0.1, label='Excellent', color=colors[4])\n",
    "plt.xticks(avg_counts_alc_freq['ALC_015'].unique()+0.1/2,('Less than once/month','Once/month','2-3 times/month','Once/week','2-3 times/week',\n",
    "                                                    '4-6 times/week','Every day'))\n",
    "plt.xlabel('Perceived Mental Health Level by Alcohol Consumption Frequency')\n",
    "plt.ylabel('Proportion')\n",
    "plt.legend()\n",
    "plt.show()\n"
   ]
  },
  {
   "cell_type": "markdown",
   "id": "72c056fd",
   "metadata": {},
   "source": [
    "Based on output above, we can see that as alcohol consumption increase from less than once per month to 2-3 times per week, the proportion of individuals self perceived mental health improves slightly, with a larger proportion reporting excellent perceived mental health when consuming alcohol 2-3 times per week.  However for individuals that drink 4-6 times per week, or every day, the proportion that report excellent mental health drops. This may indicate that those drinking more frequently may temporarily increase their perceived mental health, but increasing the alcohol consumption frequency by too much will lead to worse self perceived mental health. "
   ]
  },
  {
   "cell_type": "code",
   "execution_count": null,
   "id": "35407090",
   "metadata": {},
   "outputs": [],
   "source": [
    "#Creates a dataframe to give the proportion of GEN_015, grouped by ALC_020\n",
    "avg_counts_binge_freq=df_q3a.groupby('ALC_020', as_index=False)['GEN_015'].value_counts(normalize=True, sort=False)\n",
    "avg_counts_binge_freq"
   ]
  },
  {
   "cell_type": "code",
   "execution_count": null,
   "id": "c92ef08d",
   "metadata": {},
   "outputs": [],
   "source": [
    "#Plotting Binge freq and perceived mental health proportions\n",
    "#change the color palette\n",
    "cmap = plt.get_cmap('coolwarm')\n",
    "colors = cmap(np.linspace(0, 1, 5))\n",
    "\n",
    "plt.figure().set_figwidth(16)\n",
    "plt.bar(avg_counts_binge_freq['ALC_020'].unique()-0.2,avg_counts_binge_freq['proportion'][::5],width=0.1,label='Poor',color=colors[0])\n",
    "plt.bar(avg_counts_binge_freq['ALC_020'].unique()-0.1,avg_counts_binge_freq['proportion'][1::5],width=0.1, label='Fair',color=colors[1])\n",
    "plt.bar(avg_counts_binge_freq['ALC_020'].unique(),avg_counts_binge_freq['proportion'][2::5],width=0.1, label='Good',color=colors[2])\n",
    "plt.bar(avg_counts_binge_freq['ALC_020'].unique()+0.1,avg_counts_binge_freq['proportion'][3::5],width=0.1, label='Very good',color=colors[3])\n",
    "plt.bar(avg_counts_binge_freq['ALC_020'].unique()+0.2,avg_counts_binge_freq['proportion'][4::5],width=0.1, label='Excellent',color=colors[4])\n",
    "plt.xticks(avg_counts_binge_freq['ALC_020'].unique()+0.1/2,('Never','Less than once/month','Once/month','2-3 times/month','Once/week',\n",
    "                                                    'More than once/week'))\n",
    "plt.xlabel('Perceived Mental Health Level by Binge Drinking Frequency')\n",
    "plt.ylabel('Proportion')\n",
    "plt.legend()\n",
    "plt.show()"
   ]
  },
  {
   "cell_type": "markdown",
   "id": "f3454fe3",
   "metadata": {},
   "source": [
    "Based on output above, we can see that as binge drinking frequency increase, the proportion of individuals self perceived mental health steadily decreases, with individuals who binge drink more than once a week reporting the lowest proportions of very good and excellent mental health, while reporting the highest proportions of poor and fair mental health.  This suggests a possible link between binge drinking and worse perceived mental health."
   ]
  },
  {
   "cell_type": "code",
   "execution_count": null,
   "id": "fcb87990",
   "metadata": {},
   "outputs": [],
   "source": [
    "#Plots average self-perceived mental health by alcohol consumption\n",
    "avg_scores_num=df_q3a.groupby(\n",
    "    ['ALC_015','ALC_020'])['GEN_015'].mean().reset_index()\n",
    "alc_015_labels = {\n",
    "    1: 'Less than once/month',\n",
    "    2: 'Once/month',\n",
    "    3: '2-3 times/month',\n",
    "    4: 'Once/week',\n",
    "    5: '2-3 times/week',\n",
    "    6: '4-6 times/week',\n",
    "    7: 'Every day'\n",
    "}\n",
    "\n",
    "# Mapping for ALC_020\n",
    "alc_020_labels = {\n",
    "    1: 'Never',\n",
    "    2: 'Less than once/month',\n",
    "    3: 'Once/month',\n",
    "    4: '2-3 times/month',\n",
    "    5: 'Once/week',\n",
    "    6: 'More than once/week',\n",
    "}\n",
    "cmap = plt.get_cmap('coolwarm')\n",
    "colors = cmap(np.linspace(0, 1, len(alc_020_labels)))\n",
    "# Replace the numeric values with the corresponding labels\n",
    "avg_scores_num['ALC_015'] = avg_scores_num['ALC_015'].map(alc_015_labels)\n",
    "avg_scores_num['ALC_020'] = avg_scores_num['ALC_020'].map(alc_020_labels)\n",
    "\n",
    "alc_020_order = list(alc_020_labels.values())  # Ensure correct order for categories\n",
    "color_map = dict(zip(alc_020_order, colors))\n",
    "# Plotting\n",
    "plt.figure(figsize=(12, 6))\n",
    "sns.barplot(data=avg_scores_num, x='ALC_015', y='GEN_015', hue='ALC_020', errorbar='sd',palette=color_map)\n",
    "plt.title('Average Self-Perceived Mental Health by Alcohol Consumption')\n",
    "plt.xlabel('Frequency of Alcohol Use')\n",
    "plt.ylabel('Average Self-Perceived Mental Health')\n",
    "plt.legend(title='Binge Drinking Frequency', bbox_to_anchor=(1.05, 1), loc='upper left')\n",
    "plt.xticks(rotation=45)\n",
    "plt.tight_layout()\n",
    "plt.show()"
   ]
  },
  {
   "cell_type": "markdown",
   "id": "9020a38a",
   "metadata": {},
   "source": [
    "To visualize the relationship between alcohol consumption and mental health among different age group, a barchart was created to compare the average self-perceived mental health by both frequency of alcohol use and frequency of binge drinking.  One of the main things noticed was the effect binge drinking had on mental health, with the avg self-perceived mental health of the most frequent binge drinkers dropping by almost 0.5 compared to those that did not​"
   ]
  },
  {
   "cell_type": "code",
   "execution_count": null,
   "id": "3a271da7",
   "metadata": {},
   "outputs": [],
   "source": [
    "#Plots average self-perceived mental health by age group and alcohol consumption\n",
    "avg_scores2 = df_q3a.groupby(['DHHGAGE', 'ALC_015'])['GEN_015'].mean().reset_index()\n",
    "alc_015_labels = {\n",
    "    1: 'Less than once/month',\n",
    "    2: 'Once/month',\n",
    "    3: '2-3 times/month',\n",
    "    4: 'Once/week',\n",
    "    5: '2-3 times/week',\n",
    "    6: '4-6 times/week',\n",
    "    7: 'Every day'\n",
    "}\n",
    "age_group={1:\"12 to 17 years\",2:\"18 to 34 years\",3:\"35 to 49 years\",4:\"50 to 64 years\",5:\"65 and older\"}\n",
    "\n",
    "cmap = plt.get_cmap('coolwarm')\n",
    "colors = cmap(np.linspace(0, 1, len(alc_015_labels)))\n",
    "\n",
    "avg_scores2['ALC_015'] = avg_scores2['ALC_015'].map(alc_015_labels)\n",
    "avg_scores2['DHHGAGE'] = avg_scores2['DHHGAGE'].map(age_group)\n",
    "\n",
    "alc_015_order = list(alc_015_labels.values())  # Ensure correct order for categories\n",
    "color_map = dict(zip(alc_015_order, colors))\n",
    "\n",
    "# Create a bar plot\n",
    "\n",
    "plt.figure(figsize=(12, 6))\n",
    "sns.barplot(x='DHHGAGE', y='GEN_015', hue='ALC_015', data=avg_scores2,palette=color_map)\n",
    "plt.title('Average Self-Perceived Mental Health by Age Group and Alcohol Consumption')\n",
    "plt.xlabel('Age Group')\n",
    "plt.ylabel('Average Self-Perceived Mental Health')\n",
    "plt.legend(title='Frequency of Alcohol Use',bbox_to_anchor=(1.05, 1), loc='upper left')\n",
    "plt.show()"
   ]
  },
  {
   "cell_type": "markdown",
   "id": "20d47ec2",
   "metadata": {},
   "source": [
    "From the above figure, we can see that as frequency of alcohol consumption increase, there is a slight increase in the average perceived mental health, most notably in those 18-34 and 50-64.  However, as individuals drink 4-6 times per week, or more, there is a decrease in average self perceived mental health."
   ]
  },
  {
   "cell_type": "code",
   "execution_count": null,
   "id": "370ea14c",
   "metadata": {},
   "outputs": [],
   "source": [
    "#Plots average self-perceived mental health by age group and binge frequency\n",
    "avg_scores3 = df_q3a.groupby(['DHHGAGE', 'ALC_020'])['GEN_015'].mean().reset_index()\n",
    "alc_020_labels = {\n",
    "    1: 'Never',\n",
    "    2: 'Less than once/month',\n",
    "    3: 'Once/month',\n",
    "    4: '2-3 times/month',\n",
    "    5: 'Once/week',\n",
    "    6: 'More than once/week',\n",
    "}\n",
    "age_group={1:\"12 to 17 years\",2:\"18 to 34 years\",3:\"35 to 49 years\",4:\"50 to 64 years\",5:\"65 and older\"}\n",
    "cmap = plt.get_cmap('coolwarm')\n",
    "colors = cmap(np.linspace(0, 1, len(alc_020_labels)))\n",
    "\n",
    "avg_scores3['ALC_020'] = avg_scores3['ALC_020'].map(alc_020_labels)\n",
    "avg_scores3['DHHGAGE'] = avg_scores3['DHHGAGE'].map(age_group)\n",
    "\n",
    "alc_020_order = list(alc_020_labels.values())  \n",
    "color_map = dict(zip(alc_020_order, colors))\n",
    "# Create a bar plot\n",
    "plt.figure(figsize=(12, 6))\n",
    "sns.barplot(x='DHHGAGE', y='GEN_015', hue='ALC_020', data=avg_scores3,palette=color_map)\n",
    "plt.title('Average Self-Perceived Mental Health by Age Group and Frequency of Binge Drinking')\n",
    "plt.xlabel('Age Group')\n",
    "plt.ylabel('Average Self-Perceived Mental Health')\n",
    "plt.legend(title='Frequency of Binge Drinking',bbox_to_anchor=(1.05, 1), loc='upper left')\n",
    "plt.show()"
   ]
  },
  {
   "cell_type": "markdown",
   "id": "8e648e00",
   "metadata": {},
   "source": [
    "Here we can see that as the frequency of binge drinking occurs, the average self perceived mental health of individuals decrease amongst all age groups."
   ]
  },
  {
   "cell_type": "markdown",
   "id": "e583c6b5-c322-4ba8-9c79-dbfefa68cb80",
   "metadata": {},
   "source": [
    "#### Question 2 -    How does cannabis use impact stress levels? "
   ]
  },
  {
   "cell_type": "markdown",
   "id": "31d26b98",
   "metadata": {},
   "source": [
    "To explore the impact of cannabis use on one's stress level, we want to extract the interested varibles to this question that are cannabis use, perceived life stress and perceived work stress. Then these vriables will be compared and analyzd to determine the imacts of cannabis use. From the initial survey data, values that are no interest to this question and may create problems to the analysis such as \"valide skip\", \"not state\", \"don't know\" and \"refusal\" were removed from the columns. All values from varibles are converted into integer type as on the inital dataset, each survey code is represented by an integer. "
   ]
  },
  {
   "cell_type": "code",
   "execution_count": null,
   "id": "c8bfc392",
   "metadata": {},
   "outputs": [],
   "source": [
    "df_q4=df.copy() # make a copy of initial filtered data and filter for the varibles relavant to this question. \n",
    "df_q4=df_q4.filter(items=['GEN_020','GEN_025','CAN_015']) \n",
    "print(df_q4.head())"
   ]
  },
  {
   "cell_type": "code",
   "execution_count": null,
   "id": "4cc0a2d2",
   "metadata": {},
   "outputs": [],
   "source": [
    "df_q4.to_csv('Question 4.csv',index=False) #Create a new csv for analysis for this guiding question. "
   ]
  },
  {
   "cell_type": "code",
   "execution_count": null,
   "id": "5aca8c07",
   "metadata": {},
   "outputs": [],
   "source": [
    "df_q4.info() #A peek to the dataset info for its data types and columns names. \n",
    "df_q4.describe()\n",
    "df_q4.dtypes"
   ]
  },
  {
   "cell_type": "code",
   "execution_count": null,
   "id": "fb80e392",
   "metadata": {},
   "outputs": [],
   "source": [
    "\n",
    "df_q4.isnull().sum() #check for missing values"
   ]
  },
  {
   "cell_type": "markdown",
   "id": "aebe3f16",
   "metadata": {},
   "source": [
    "As we can see, after running the below code, all the values from interested varibles have been converted to Int32 type. "
   ]
  },
  {
   "cell_type": "code",
   "execution_count": null,
   "id": "5568d13d",
   "metadata": {},
   "outputs": [],
   "source": [
    "df_q4[['CAN_015','GEN_020','GEN_025']]=df_q4[['CAN_015','GEN_020','GEN_025']].astype(int) #Converts Cannabis Use CAN_015, GEN_020, GEN_025 into integer type.\n",
    "df_q4.info()"
   ]
  },
  {
   "cell_type": "code",
   "execution_count": null,
   "id": "da7e074b",
   "metadata": {},
   "outputs": [],
   "source": [
    "#Removing irrelavent values from perceived life stress veriable\n",
    "df_q4=df_q4.drop(df_q4[df_q4['GEN_020']==7].index)  \n",
    "df_q4=df_q4.drop(df_q4[df_q4['GEN_020']==8].index)"
   ]
  },
  {
   "cell_type": "code",
   "execution_count": null,
   "id": "db01690b",
   "metadata": {},
   "outputs": [],
   "source": [
    "#Removing irrelavent values from perceived work stress varible\n",
    "df_q4=df_q4.drop(df_q4[df_q4['GEN_025']==6].index)\n",
    "df_q4=df_q4.drop(df_q4[df_q4['GEN_025']==7].index)\n",
    "df_q4=df_q4.drop(df_q4[df_q4['GEN_025']==8].index)\n",
    "df_q4=df_q4.drop(df_q4[df_q4['GEN_025']==9].index)"
   ]
  },
  {
   "cell_type": "code",
   "execution_count": null,
   "id": "0b5fc739",
   "metadata": {},
   "outputs": [],
   "source": [
    "#Removing irrelavent values from cannabis use variable\n",
    "df_q4=df_q4.drop(df_q4[df_q4['CAN_015']==7].index)\n",
    "df_q4=df_q4.drop(df_q4[df_q4['CAN_015']==8].index)\n",
    "df_q4=df_q4.drop(df_q4[df_q4['CAN_015']==9].index)"
   ]
  },
  {
   "cell_type": "markdown",
   "id": "e04cb590",
   "metadata": {},
   "source": [
    "After running the above code, we can see from below that the minimum value is 1 and maximum is 5. values of 6 ,7 ,8, 9 have been removed from dataset. "
   ]
  },
  {
   "cell_type": "code",
   "execution_count": null,
   "id": "f21d6f85",
   "metadata": {},
   "outputs": [],
   "source": [
    "df_q4.describe()"
   ]
  },
  {
   "cell_type": "code",
   "execution_count": null,
   "id": "274776e8",
   "metadata": {},
   "outputs": [],
   "source": [
    "# Group preceived life stress by cannabis use to prepare for the data analysis. \n",
    "df4_stress=df_q4.groupby('GEN_020', as_index=False)['CAN_015'].value_counts(normalize=True,sort=False)\n",
    "display(df4_stress)"
   ]
  },
  {
   "cell_type": "code",
   "execution_count": null,
   "id": "dd9efcbd",
   "metadata": {},
   "outputs": [],
   "source": [
    "# Create a bar chart to visualize the impact of cannabis use to perceived life stress. \n",
    "plt.figure(figsize=(12, 6))\n",
    "plt.bar(df4_stress['GEN_020'].unique(),df4_stress['proportion'][::2],width=0.3,label='Poeple Used Cannabis in Past 12 Months')\n",
    "plt.bar(df4_stress['GEN_020'].unique()+0.3,df4_stress['proportion'][1::2],width=0.3, label=\"People Didn't Use Cannabis in Past 12 Months\")\n",
    "plt.xticks(df4_stress['GEN_020'].unique()+0.3/2,('Not at all stressful','Not very stressful','A bit stressful','Quite bit stressful','Extremely stressful'))\n",
    "plt.xlabel('Preceived Life Stress by Canabis Use')\n",
    "plt.ylabel('Percent')\n",
    "plt.legend()\n",
    "plt.show()"
   ]
  },
  {
   "cell_type": "markdown",
   "id": "366d80f3",
   "metadata": {},
   "source": [
    "Based on the visualization of the graph, we can see that people who used cannais and feeling stressful is slightly more than people who used cannabis feeling not stressful. This might show us that using cannabis can still increase one's life stress level. From the group of people who didn't use cannabis, the amount of people feeling not stressful is also more than the amount of people feeling stressful. This tells us that not using cannabis will result in a less stressful life. However, the results can also be influnced by the factor that the number of people who didn't use cannabis is significantly more than the number of people who used cannabis in this dataset."
   ]
  },
  {
   "cell_type": "code",
   "execution_count": null,
   "id": "e7f77ced",
   "metadata": {},
   "outputs": [],
   "source": [
    "# Group perceived work stress results by cannabis use. \n",
    "df4_stress=df_q4.groupby('GEN_025', as_index=False)['CAN_015'].value_counts(normalize=True,sort=False)\n",
    "display(df4_stress)"
   ]
  },
  {
   "cell_type": "code",
   "execution_count": null,
   "id": "f901c2dc",
   "metadata": {},
   "outputs": [],
   "source": [
    "# Plot a bar chart to visulize the relationship of cannabis use and perceived work stress. \n",
    "plt.figure(figsize=(12, 6))\n",
    "plt.bar(df4_stress['GEN_025'].unique(),df4_stress['proportion'][::2],width=0.3,label='Poeple Used Cannabis in Past 12 Months')\n",
    "plt.bar(df4_stress['GEN_025'].unique()+0.3,df4_stress['proportion'][1::2],width=0.3, label=\"People Didn't Use Cannabis in Past 12 Months\")\n",
    "plt.xticks(df4_stress['GEN_025'].unique()+0.3/2,('Not at all stressful','Not very stressful','A bit stressful','Quite bit stressful','Extremely stressful'))\n",
    "plt.xlabel('Preceived Work Stress by Canabis Use')\n",
    "plt.ylabel('Percent')\n",
    "plt.legend()\n",
    "plt.show()"
   ]
  },
  {
   "cell_type": "markdown",
   "id": "7de53a29",
   "metadata": {},
   "source": [
    "From the visualization of this graph, we can see that the amount of people who used canabis and feeling stressful is almost the same as the amount of people who used cannabis and feeling not stressful. This may reveal that the cannabis use does not make significant impact to one's work stress. As we can see people who didn't use canabis can still feel stressful. We didn't see a tendency of increassing stress level in both groups. This may reveal that using canabis does not make work much more stressful. "
   ]
  },
  {
   "cell_type": "markdown",
   "id": "3790e8ca-65cc-4dcf-88eb-07be1d77174a",
   "metadata": {},
   "source": [
    "#### Question 3 - What is the relationship between smoking and physical health outcomes"
   ]
  },
  {
   "cell_type": "markdown",
   "id": "d1cb5a68-7cbd-4752-a8d6-625979ea8f4c",
   "metadata": {},
   "source": [
    "#### Question 4 - Which demographic groups (age, sex, region) are most affected by health barriers? "
   ]
  },
  {
   "cell_type": "markdown",
   "id": "068a4f36",
   "metadata": {},
   "source": [
    "This is a more comprehensive question that invovled different demogaphic of people. The health barries refer to cannabis use, smoking frequency and alcohol consumption. In the initial dataset, the demographic groups includes people of different gender, age, region and education level. This analysis will explore the impact of each health barries to each demographic group one by one. It's crucial for our analysis to further consider people from differnt demographic groups as the health barries ussually affects peole differntly to their background. To begin data analysis, there are several steps to conduct the data cleaning. The data cleaning process removes the values that are undesired to answering this quiding questions such as \"don't know\", \"refusal\", \"not stated\" and \"valid skip\". Then it will conver the values of all the desired varibels into integer type as the survey response received are all in format of integer. "
   ]
  },
  {
   "cell_type": "code",
   "execution_count": null,
   "id": "47c44636",
   "metadata": {},
   "outputs": [],
   "source": [
    "df_q5=df.copy() # make a copy of initial filtered data and filter for the varibles relavant to this question. \n",
    "df_q5=df_q5.filter(items=['CAN_015','SMK_005','SMMK_060','ALC_015','ALC_020','DHHGAGE','DHH_SEX','GEOGPRV','EHG2DVH3'])\n",
    "print(df_q5.head())"
   ]
  },
  {
   "cell_type": "code",
   "execution_count": null,
   "id": "455bd656",
   "metadata": {},
   "outputs": [],
   "source": [
    "df_q5.to_csv('Question 5.csv',index=False) #Create a new csv for analysis for this guiding question. "
   ]
  },
  {
   "cell_type": "code",
   "execution_count": null,
   "id": "a8bcc516",
   "metadata": {},
   "outputs": [],
   "source": [
    "#A peek to the dataset info for its data types and columns names. \n",
    "df_q5.info()\n",
    "df_q5.describe()\n",
    "df_q5.dtypes"
   ]
  },
  {
   "cell_type": "code",
   "execution_count": null,
   "id": "48938383",
   "metadata": {},
   "outputs": [],
   "source": [
    "df_q5.isnull().sum() #check for missing values"
   ]
  },
  {
   "cell_type": "markdown",
   "id": "05f22576",
   "metadata": {},
   "source": [
    "Data Cleaning:"
   ]
  },
  {
   "cell_type": "code",
   "execution_count": null,
   "id": "1efe8a75",
   "metadata": {},
   "outputs": [],
   "source": [
    "#Removing undesired values from cannabis use variable.\n",
    "df_q5=df_q5.drop(df_q5[df_q5['CAN_015']==7].index)\n",
    "df_q5=df_q5.drop(df_q5[df_q5['CAN_015']==8].index)\n",
    "df_q5=df_q5.drop(df_q5[df_q5['CAN_015']==9].index)"
   ]
  },
  {
   "cell_type": "code",
   "execution_count": null,
   "id": "3443a78a",
   "metadata": {},
   "outputs": [],
   "source": [
    "#Removing undesired values from smoking frequency variable.\n",
    "df_q5=df_q5.drop(df_q5[df_q5['SMK_005']==7].index)\n",
    "df_q5=df_q5.drop(df_q5[df_q5['SMK_005']==8].index)\n",
    "df_q5=df_q5.drop(df_q5[df_q5['SMK_005']==9].index)"
   ]
  },
  {
   "cell_type": "code",
   "execution_count": null,
   "id": "2c19e897",
   "metadata": {},
   "outputs": [],
   "source": [
    "#Removing undesired values from alcohol consumption variable.\n",
    "df_q5=df_q5.drop(df_q5[df_q5['ALC_015']==96].index)\n",
    "df_q5=df_q5.drop(df_q5[df_q5['ALC_015']==97].index)\n",
    "df_q5=df_q5.drop(df_q5[df_q5['ALC_015']==98].index)\n",
    "df_q5=df_q5.drop(df_q5[df_q5['ALC_015']==99].index)"
   ]
  },
  {
   "cell_type": "code",
   "execution_count": null,
   "id": "1436bc2c",
   "metadata": {},
   "outputs": [],
   "source": [
    "#Removing undesired values from alcohol consumption (drinking frequency) variable.\n",
    "df_q5=df_q5.drop(df_q5[df_q5['ALC_020']==96].index)\n",
    "df_q5=df_q5.drop(df_q5[df_q5['ALC_020']==97].index)\n",
    "df_q5=df_q5.drop(df_q5[df_q5['ALC_020']==98].index)\n",
    "df_q5=df_q5.drop(df_q5[df_q5['ALC_020']==99].index)"
   ]
  },
  {
   "cell_type": "code",
   "execution_count": null,
   "id": "6c64e7c1",
   "metadata": {},
   "outputs": [],
   "source": [
    "#Removing undesired values from household education level variable.\n",
    "df_q5=df_q5.drop(df_q5[df_q5['EHG2DVH3']==9].index)"
   ]
  },
  {
   "cell_type": "code",
   "execution_count": null,
   "id": "c78a9304",
   "metadata": {},
   "outputs": [],
   "source": [
    "# Converted interested varibles into integer type\n",
    "df_q5['CAN_015'] = df_q5['CAN_015'].astype(int)\n",
    "df_q5['GEOGPRV'].dtypes\n",
    "df_q5['SMK_005'] = df_q5['SMK_005'].astype(int)\n",
    "df_q5['SMK_005'].dtypes\n",
    "df_q5['ALC_015'] = df_q5['ALC_015'].astype(int)\n",
    "df_q5['ALC_015'].dtypes\n",
    "df_q5['ALC_020'] = df_q5['ALC_020'].astype(int)\n",
    "df_q5['ALC_020'].dtypes\n",
    "df_q5['DHH_SEX'] = df_q5['DHH_SEX'].astype(int)\n",
    "df_q5['DHH_SEX'].dtypes\n",
    "df_q5['DHHGAGE'] = df_q5['DHHGAGE'].astype(int)\n",
    "df_q5['DHHGAGE'].dtypes\n",
    "df_q5['GEOGPRV'] = df_q5['GEOGPRV'].astype(int)\n",
    "df_q5['GEOGPRV'].dtypes\n",
    "df_q5['EHG2DVH3'] = df_q5['EHG2DVH3'].astype(int)\n",
    "df_q5['EHG2DVH3'].dtypes"
   ]
  },
  {
   "cell_type": "markdown",
   "id": "b7b923c9",
   "metadata": {},
   "source": [
    "After running the above code, we can see from below that the maximum values shows the undesired values have been removed from all the interested varibels, and all the values have been converted to integer type. "
   ]
  },
  {
   "cell_type": "code",
   "execution_count": null,
   "id": "635a60f0",
   "metadata": {},
   "outputs": [],
   "source": [
    "df_q5.describe()"
   ]
  },
  {
   "cell_type": "code",
   "execution_count": null,
   "id": "3ac73796",
   "metadata": {},
   "outputs": [],
   "source": [
    "#Group cannabis use results based on sex type. \n",
    "df5_cansex=df_q5.groupby('DHH_SEX', as_index=False)['CAN_015'].value_counts(normalize=True,sort=False)\n",
    "display(df5_cansex)"
   ]
  },
  {
   "cell_type": "code",
   "execution_count": null,
   "id": "81db0eed",
   "metadata": {},
   "outputs": [],
   "source": [
    "# Create a bar plot to show the cannabis use infromation based on each gender type. \n",
    "plt.figure(figsize=(10,7))\n",
    "plt.bar(df5_cansex['DHH_SEX'].unique(),df5_cansex['proportion'][::2],width=0.3,label='Poeple Used Cannabis in Past 12 Months')\n",
    "plt.bar(df5_cansex['DHH_SEX'].unique()+0.3,df5_cansex['proportion'][1::2],width=0.3, label=\"People Didn't Use Cannabis in Past 12 Months\")\n",
    "plt.xticks(df5_cansex['DHH_SEX'].unique()+0.3/2,('Male','Female'))\n",
    "plt.xlabel('Gender Impacted by Canabis')\n",
    "plt.ylabel('Percent')\n",
    "plt.legend()\n",
    "plt.show()"
   ]
  },
  {
   "cell_type": "markdown",
   "id": "a9e598cc",
   "metadata": {},
   "source": [
    "From the above bar plot, we can find that females uses canabis slightly more than males. "
   ]
  },
  {
   "cell_type": "code",
   "execution_count": null,
   "id": "146d0727",
   "metadata": {},
   "outputs": [],
   "source": [
    "#Create a pie chart to visualize the proportaion of male and female using cannabis. \n",
    "cannabis_sex_data=df_q5[['CAN_015', 'DHH_SEX']].dropna()\n",
    "cannabis_sex=cannabis_sex_data.groupby('DHH_SEX')['CAN_015'].sum()\n",
    "DHH_SEX_labels={\n",
    "    1: \"Male\",\n",
    "    2: \"Female\"\n",
    "}\n",
    "cannabis_sex.index=cannabis_sex.index.map(DHH_SEX_labels)\n",
    "\n",
    "plt.figure(figsize=(5,5))\n",
    "cannabis_sex.plot(kind='pie',autopct='%1.1f%%',colors=['blue','orange'],startangle=90,textprops={'fontsize':12})\n",
    "plt.title('Cannabis Use by Sex')\n",
    "plt.ylabel('')  \n",
    "plt.show()"
   ]
  },
  {
   "cell_type": "markdown",
   "id": "0edf3389",
   "metadata": {},
   "source": [
    "A supplementry pie chart is created to better visulize the proportion of male and female using cannabis. We can see that 8% more of females use cannabis compared to males. "
   ]
  },
  {
   "cell_type": "code",
   "execution_count": null,
   "id": "8081de0d",
   "metadata": {},
   "outputs": [],
   "source": [
    "#Create a bar plot to explore the smoking frequency by each gender. \n",
    "smoke_sex=df_q5[['SMK_005', 'DHH_SEX']].dropna()\n",
    "smoke_sex=smoke_sex.groupby('DHH_SEX')['SMK_005'].mean()\n",
    "DHH_SEX_labels={\n",
    "    1: \"Male\",\n",
    "    2: \"Female\"\n",
    "}\n",
    "smoke_sex.index=smoke_sex.index.map(DHH_SEX_labels)\n",
    "\n",
    "plt.figure(figsize=(8,6))\n",
    "plt.ylim(0,3)\n",
    "smoke_sex.plot(kind='bar', color=['skyblue', 'pink'])\n",
    "plt.title('Average Smoke Frequency by Gender')\n",
    "plt.xlabel('Sex')\n",
    "plt.ylabel('Average Smoke Frequency')\n",
    "plt.xticks(rotation=0)  \n",
    "plt.grid(axis='y',linestyle='--',alpha=0.7)\n",
    "plt.show()"
   ]
  },
  {
   "cell_type": "markdown",
   "id": "fd8f0b69",
   "metadata": {},
   "source": [
    "Based on the bar chart, we can interpret that females smoke slighly more often than males. "
   ]
  },
  {
   "cell_type": "code",
   "execution_count": null,
   "id": "e431414f",
   "metadata": {},
   "outputs": [],
   "source": [
    "#Create a pie chart to visualize the proportaion of male and female for their smoking frequency. \n",
    "smoking_sex=df_q5[['SMK_005', 'DHH_SEX']].dropna()\n",
    "smoking_bysex=smoking_sex.groupby('DHH_SEX')['SMK_005'].sum()\n",
    "DHH_SEX_labels={\n",
    "    1: \"Male\",\n",
    "    2: \"Female\"\n",
    "}\n",
    "smoking_bysex.index=smoking_bysex.index.map(DHH_SEX_labels)\n",
    "\n",
    "plt.figure(figsize=(5, 5))\n",
    "smoking_bysex.plot(kind='pie', autopct='%1.1f%%', colors=['skyblue', 'pink'], startangle=90, textprops={'fontsize': 12})\n",
    "plt.title('Smoke Frequency by Sex')\n",
    "plt.ylabel('')  \n",
    "plt.show()"
   ]
  },
  {
   "cell_type": "markdown",
   "id": "edbfd0bd",
   "metadata": {},
   "source": [
    "A supplementry pie chart is created to better visulize the proportion of male and female for their smoking frequency. We can see that females smoke 8% more often than males. "
   ]
  },
  {
   "cell_type": "code",
   "execution_count": null,
   "id": "7f2d011a",
   "metadata": {},
   "outputs": [],
   "source": [
    "# Create bar chart for alcohol comsumptions based on two gender types. \n",
    "alcohol_sex=df_q5[['ALC_015', 'ALC_020', 'DHH_SEX']].dropna()\n",
    "alc_015_bysex=alcohol_sex.groupby('DHH_SEX')['ALC_015'].mean()\n",
    "alc_020_bysex=alcohol_sex.groupby('DHH_SEX')['ALC_020'].mean()\n",
    "DHH_SEX_labels={\n",
    "    1: \"Male\",\n",
    "    2: \"Female\"\n",
    "}\n",
    "alc_015_bysex.index=alc_015_bysex.index.map(DHH_SEX_labels)\n",
    "alc_020_bysex.index=alc_020_bysex.index.map(DHH_SEX_labels)\n",
    "\n",
    "plt.figure(figsize=(14,6))\n",
    "\n",
    "plt.subplot(1,2,1)  \n",
    "alc_015_bysex.plot(kind='bar',color=['blue','orange'])\n",
    "plt.title('Average Alcohol Consumption Frequency by Sex')\n",
    "plt.xlabel('Sex')\n",
    "plt.ylabel('Average Alcohol Consumption Frequency')\n",
    "plt.xticks(rotation=0)  \n",
    "plt.grid(axis='y',linestyle='--',alpha=0.7)\n",
    "\n",
    "plt.subplot(1,2,2) \n",
    "alc_020_bysex.plot(kind='bar',color=['blue','orange'])\n",
    "plt.title('Average Alcohol Consumption (Drink 4+/5+ One Occasion) by Sex')\n",
    "plt.xlabel('Sex')\n",
    "plt.ylabel('Average Alcohol Consumption (Drink 4+/5+ One Occasion')\n",
    "plt.xticks(rotation=0)  \n",
    "plt.grid(axis='y',linestyle='--',alpha=0.7)"
   ]
  },
  {
   "cell_type": "markdown",
   "id": "e835acf1",
   "metadata": {},
   "source": [
    "From the above bar plots, we found that males generally consumes more alcohols than femles in terms of both alcohol comspmtion frequency and drinking 4+/5+ cans on one occasion. "
   ]
  },
  {
   "cell_type": "code",
   "execution_count": null,
   "id": "6e04f44a",
   "metadata": {},
   "outputs": [],
   "source": [
    "# Plot a bar chart to investigate the cannabis use by differnt age group. \n",
    "data_filtered=df_q5[['CAN_015', 'DHHGAGE']].dropna()\n",
    "cannabis_use_different_age=data_filtered.groupby('DHHGAGE')['CAN_015'].mean()\n",
    "DHHGAGE_labels={\n",
    "    1: '12 to 17 years',\n",
    "    2: '18 to 34 years',\n",
    "    3: '35 to 49 years',\n",
    "    4: '50 to 64 years',\n",
    "    5: '65 years and older'\n",
    "}\n",
    "cannabis_use_different_age.index=cannabis_use_different_age.index.map(DHHGAGE_labels)\n",
    "\n",
    "plt.figure(figsize=(10,6))\n",
    "cannabis_use_different_age.plot(kind='bar',color='olive')\n",
    "plt.title('Average Cannabis Use by Different Age Group')\n",
    "plt.xlabel('Age Group')\n",
    "plt.ylabel('Average Cannabis Use')\n",
    "plt.xticks(rotation=45, ha='right')\n",
    "plt.grid(axis='y',linestyle='--',alpha=0.7)\n",
    "plt.show()"
   ]
  },
  {
   "cell_type": "markdown",
   "id": "e4696948",
   "metadata": {},
   "source": [
    "Based on the above graph, we can tell that people who are at 12 to 17 years and 65 years and older use cannabis most often, with age group 50 years to 64 years and 30 years to 49 years following closely behind. Poeple of 18 years to 34 years use cannabis least often. "
   ]
  },
  {
   "cell_type": "code",
   "execution_count": null,
   "id": "74f7e0f2",
   "metadata": {},
   "outputs": [],
   "source": [
    "# Plot a bar chart to investigate the smoking freqnecy by differnt age group. \n",
    "smoke_data_filtered=df_q5[['SMK_005', 'DHHGAGE']].dropna()\n",
    "smoke_byage=smoke_data_filtered.groupby('DHHGAGE')['SMK_005'].mean()\n",
    "DHHGAGE_labels={\n",
    "    1: \"12 to 17 years\",\n",
    "    2: \"18 to 34 years\",\n",
    "    3: \"35 to 49 years\",\n",
    "    4: \"50 to 64 years\",\n",
    "    5: \"65 years and older\"\n",
    "}\n",
    "smoke_byage.index=smoke_byage.index.map(DHHGAGE_labels)\n",
    "\n",
    "plt.figure(figsize=(10,6))\n",
    "smoke_byage.plot(kind='bar',color='purple')\n",
    "plt.title('Average Smoke Frequency by Age Group')\n",
    "plt.xlabel('Age Group')\n",
    "plt.ylabel('Average Smoke Frequency')\n",
    "plt.xticks(rotation=45,ha='right')\n",
    "plt.grid(axis='y',linestyle='--',alpha=0.7)\n",
    "plt.show()"
   ]
  },
  {
   "cell_type": "markdown",
   "id": "958b7cad",
   "metadata": {},
   "source": [
    "From the bar plot, we found that people people who are at 12 to 17 years and 65 years and older smoke most often. However, the smoking frequency for the rest of age groups are approximately the same. "
   ]
  },
  {
   "cell_type": "code",
   "execution_count": null,
   "id": "fdaca5bc",
   "metadata": {},
   "outputs": [],
   "source": [
    "# Create two bar charts to analyze the affect of alcohol consumption to each age group. \n",
    "alcohol_data_filtered=df_q5[['ALC_015', 'ALC_020', 'DHHGAGE']].dropna()\n",
    "alc_015_by_age=alcohol_data_filtered.groupby('DHHGAGE')['ALC_015'].mean()\n",
    "alc_020_by_age=alcohol_data_filtered.groupby('DHHGAGE')['ALC_020'].mean()\n",
    "DHHGAGE_labels={\n",
    "    1: \"12 to 17 years\",\n",
    "    2: \"18 to 34 years\",\n",
    "    3: \"35 to 49 years\",\n",
    "    4: \"50 to 64 years\",\n",
    "    5: \"65 years and older\"\n",
    "}\n",
    "alc_015_by_age.index=alc_015_by_age.index.map(DHHGAGE_labels)\n",
    "alc_020_by_age.index=alc_020_by_age.index.map(DHHGAGE_labels)\n",
    "\n",
    "plt.figure(figsize=(14,6))\n",
    "plt.subplot(1,2,1)  \n",
    "alc_015_by_age.plot(kind='bar',color='coral')\n",
    "plt.title('Average Alcohol Consumption Frequency in Past 12 Months')\n",
    "plt.xlabel('Age Group')\n",
    "plt.ylabel('Average Alcohol Consumption Frequency')\n",
    "plt.xticks(rotation=45,ha='right')\n",
    "plt.grid(axis='y',linestyle='--',alpha=0.7)\n",
    "\n",
    "plt.subplot(1,2,2) \n",
    "plt.ylim(0,2.5)\n",
    "alc_020_by_age.plot(kind='bar',color='mediumblue')\n",
    "plt.title('Average Alcohol Consumption (Drink 4+/5+ One Occasion)')\n",
    "plt.xlabel('Age Group')\n",
    "plt.ylabel('Average Alcohol Consumption (Drink 4+/5+ One Occasion)')\n",
    "plt.xticks(rotation=45,ha='right')\n",
    "plt.grid(axis='y',linestyle='--',alpha=0.7)"
   ]
  },
  {
   "cell_type": "markdown",
   "id": "b7400cd5",
   "metadata": {},
   "source": [
    "Based on the above graphs, people at the age of 12 to 17 years drink least often. This is becuase the law forbids minors to drink alcohol. From the age of 18 years to 34 years, people start to drink more often, and then reach the maximum alcohol comsumption frequcny at the age of 50 years to 64 years. However, people at younger age (18 years to 34 years) tend to drink most of alcohol at once. After the age of 35 years, people start to drink less and less alcohol at one occasion. This might be the result of physically aging that the body is less able to handle alcohols over time. "
   ]
  },
  {
   "cell_type": "code",
   "execution_count": null,
   "id": "0d7201ba",
   "metadata": {},
   "outputs": [],
   "source": [
    "# Create a bar chart to analyze cannabis use by region. \n",
    "cannabis_region=df_q5[['CAN_015', 'GEOGPRV']].dropna()\n",
    "GEOGPRV_labels={\n",
    "    10: \"NEWFOUNDLAND AND LABRADOR\",\n",
    "    11: \"PRINCE EDWARD ISLAND\",\n",
    "    12: \"NOVA SCOTIA\",\n",
    "    13: \"NEW BRUNSWICK\",\n",
    "    24: \"QUEBEC\",\n",
    "    35: \"ONTARIO\",\n",
    "    46: \"MANITOBA\",\n",
    "    47: \"SASKATCHEWAN\",\n",
    "    48: \"ALBERTA\",\n",
    "    59: \"BRITISH COLUMBIA\",\n",
    "    60: \"YUKON/NORTHWEST/NUNAVUT TERRITORIES\"\n",
    "}\n",
    "cannabis_region['GEOGPRV']=cannabis_region['GEOGPRV'].map(GEOGPRV_labels)\n",
    "cannabis_byregion=cannabis_region.groupby('GEOGPRV')['CAN_015'].mean()\n",
    "\n",
    "plt.figure(figsize=(10,7))\n",
    "plt.ylim(0,2)\n",
    "cannabis_byregion.plot(kind='bar', color='olive')\n",
    "plt.title('Average Cannabis Use by Region')\n",
    "plt.xlabel('Region')\n",
    "plt.ylabel('Average Cannabis Use')\n",
    "plt.xticks(rotation=45, ha='right')\n",
    "plt.grid(axis='y',linestyle='--',alpha=0.7)\n",
    "plt.tight_layout()\n",
    "plt.show()"
   ]
  },
  {
   "cell_type": "markdown",
   "id": "6bb2c147",
   "metadata": {},
   "source": [
    "The above plot reveals that people among different region use cannabis approximately same fequently except for the YUKON/NORTHWEST/NUNAVUT territories. This may be due to the less population living in these territories. "
   ]
  },
  {
   "cell_type": "code",
   "execution_count": null,
   "id": "ced9f4bb",
   "metadata": {},
   "outputs": [],
   "source": [
    "# Create bar plot for smoking frequency for people at each region. \n",
    "smoke_region=df_q5[['SMK_005', 'GEOGPRV']].dropna()\n",
    "GEOGPRV_labels={\n",
    "    10: \"NEWFOUNDLAND AND LABRADOR\",\n",
    "    11: \"PRINCE EDWARD ISLAND\",\n",
    "    12: \"NOVA SCOTIA\",\n",
    "    13: \"NEW BRUNSWICK\",\n",
    "    24: \"QUEBEC\",\n",
    "    35: \"ONTARIO\",\n",
    "    46: \"MANITOBA\",\n",
    "    47: \"SASKATCHEWAN\",\n",
    "    48: \"ALBERTA\",\n",
    "    59: \"BRITISH COLUMBIA\",\n",
    "    60: \"YUKON/NORTHWEST/NUNAVUT TERRITORIES\"\n",
    "}\n",
    "smoke_region['GEOGPRV']=smoke_region['GEOGPRV'].map(GEOGPRV_labels)\n",
    "smoke_byregion=smoke_region.groupby('GEOGPRV')['SMK_005'].mean()\n",
    "\n",
    "plt.figure(figsize=(10,7))\n",
    "smoke_byregion.plot(kind='bar',color='purple')\n",
    "plt.title('Average Smoke Frequency by Region')\n",
    "plt.xlabel('Region')\n",
    "plt.ylabel('Average Smoke Frequency')\n",
    "plt.xticks(rotation=45,ha='right')\n",
    "plt.grid(axis='y',linestyle='--',alpha=0.7)\n",
    "plt.tight_layout()\n",
    "plt.show()"
   ]
  },
  {
   "cell_type": "markdown",
   "id": "59ca3e51",
   "metadata": {},
   "source": [
    "Based on the plot, we found that the smoking frequency for people at each provinces are approximately the same excep for the three territories and Alberta. The reason behind why Albertans smoke less frequently comapred to people at other provinces needs to be further investigated."
   ]
  },
  {
   "cell_type": "code",
   "execution_count": null,
   "id": "cb07589d",
   "metadata": {},
   "outputs": [],
   "source": [
    "alcohol_data_filtered=df_q5[['ALC_015', 'ALC_020', 'GEOGPRV']].dropna()\n",
    "alc_015_region=alcohol_data_filtered.groupby('GEOGPRV')['ALC_015'].mean()\n",
    "alc_020_region=alcohol_data_filtered.groupby('GEOGPRV')['ALC_020'].mean()\n",
    "GEOGPRV_labels={\n",
    "    10: \"NEWFOUNDLAND AND LABRADOR\",\n",
    "    11: \"PRINCE EDWARD ISLAND\",\n",
    "    12: \"NOVA SCOTIA\",\n",
    "    13: \"NEW BRUNSWICK\",\n",
    "    24: \"QUEBEC\",\n",
    "    35: \"ONTARIO\",\n",
    "    46: \"MANITOBA\",\n",
    "    47: \"SASKATCHEWAN\",\n",
    "    48: \"ALBERTA\",\n",
    "    59: \"BRITISH COLUMBIA\",\n",
    "    60: \"YUKON/NORTHWEST/NUNAVUT TERRITORIES\"\n",
    "}\n",
    "alc_015_region.index=alc_015_region.index.map(GEOGPRV_labels)\n",
    "alc_020_region.index=alc_020_region.index.map(GEOGPRV_labels)\n",
    "\n",
    "plt.figure(figsize=(14,6))\n",
    "\n",
    "plt.subplot(1,2,1)  \n",
    "alc_015_region.plot(kind='bar',color='coral')\n",
    "plt.title('Average Alcohol Consumption Frequency (Past 12 Months) By Region')\n",
    "plt.xlabel('Region Group')\n",
    "plt.ylabel('Average Alcohol Consumption Frequency')\n",
    "plt.xticks(rotation=45,ha='right')\n",
    "plt.grid(axis='y',linestyle='--',alpha=0.7)\n",
    "\n",
    "plt.subplot(1,2,2)  \n",
    "alc_020_region.plot(kind='bar',color='mediumblue')\n",
    "plt.title('Average Alcohol Consumption (Drink 4+/5+ One Occasion) By Region')\n",
    "plt.xlabel('Region Group')\n",
    "plt.ylabel('Average Alcohol Consumption (Drink 4+/5+ One Occasion)')\n",
    "plt.xticks(rotation=45,ha='right')\n",
    "plt.grid(axis='y',linestyle='--',alpha=0.7)"
   ]
  },
  {
   "cell_type": "code",
   "execution_count": null,
   "id": "9426cf38",
   "metadata": {},
   "outputs": [],
   "source": [
    "cannabis_education=df_q5[['CAN_015', 'EHG2DVH3']].dropna()\n",
    "EHG2DVH3_labels={\n",
    "    1: \"Less than secondary school graduation\",\n",
    "    2: \"Secondary school graduation, no post-secondary education\",\n",
    "    3: \"Post-secondary certificate/diploma/university degree\"\n",
    "}\n",
    "cannabis_education['EHG2DVH3']=cannabis_education['EHG2DVH3'].map(EHG2DVH3_labels)\n",
    "cannabis_education=cannabis_education.groupby('EHG2DVH3')['CAN_015'].mean()\n",
    "\n",
    "plt.figure(figsize=(8.5,7))\n",
    "cannabis_education.plot(kind='bar',color='olive',width=0.25)\n",
    "plt.title('Average Cannabis Use by Education Level')\n",
    "plt.xlabel('Education Level')\n",
    "plt.ylabel('Average Cannabis Use')\n",
    "plt.xticks(rotation=45, ha='right')\n",
    "plt.grid(axis='y',linestyle='--',alpha=0.7)\n",
    "plt.tight_layout()\n",
    "plt.show()"
   ]
  },
  {
   "cell_type": "code",
   "execution_count": null,
   "id": "4b05133c",
   "metadata": {},
   "outputs": [],
   "source": [
    "smoke_education=df_q5[['SMK_005', 'EHG2DVH3']].dropna()\n",
    "EHG2DVH3_labels={\n",
    "    1: \"Less than secondary school graduation\",\n",
    "    2: \"Secondary school graduation, no post-secondary education\",\n",
    "    3: \"Post-secondary certificate/diploma/university degree\"\n",
    "}\n",
    "smoke_education['EHG2DVH3']=smoke_education['EHG2DVH3'].map(EHG2DVH3_labels)\n",
    "smoke_education=smoke_education.groupby('EHG2DVH3')['SMK_005'].mean()\n",
    "\n",
    "plt.figure(figsize=(8, 7))\n",
    "plt.ylim(0,3)\n",
    "smoke_education.plot(kind='bar', color='purple', width=0.3)\n",
    "plt.title('Average Smoke Frequency by Education Level')\n",
    "plt.xlabel('Education Level')\n",
    "plt.ylabel('Average Smoke Frequency')\n",
    "plt.xticks(rotation=45,ha='right')\n",
    "plt.grid(axis='y',linestyle='--',alpha=0.7)\n",
    "plt.tight_layout()\n",
    "plt.show()"
   ]
  },
  {
   "cell_type": "code",
   "execution_count": null,
   "id": "f1df1413",
   "metadata": {},
   "outputs": [],
   "source": [
    "alcohol_education=df_q5[['ALC_015', 'ALC_020', 'EHG2DVH3']].dropna()\n",
    "alc_015_education=alcohol_education.groupby('EHG2DVH3')['ALC_015'].mean()\n",
    "alc_020_education=alcohol_education.groupby('EHG2DVH3')['ALC_020'].mean()\n",
    "\n",
    "EHG2DVH3_labels={\n",
    "    1: \"Less than secondary school graduation\",\n",
    "    2: \"Secondary school graduation, no post-secondary education\",\n",
    "    3: \"Post-secondary certificate/diploma/university degree\"\n",
    "}\n",
    "alc_015_education.index=alc_015_education.index.map(EHG2DVH3_labels)\n",
    "alc_020_education.index=alc_020_education.index.map(EHG2DVH3_labels)\n",
    "\n",
    "plt.figure(figsize=(14,8))\n",
    "\n",
    "plt.subplot(1,2,1)\n",
    "alc_015_education.plot(kind='bar',color='coral')\n",
    "plt.title('Average Alcohol Consumption by Education Level')\n",
    "plt.xlabel('Education Level')\n",
    "plt.ylabel('Average Alcohol Consumption')\n",
    "plt.xticks(rotation=45, ha='right')\n",
    "plt.grid(axis='y',linestyle='--',alpha=0.7)\n",
    "\n",
    "plt.subplot(1,2,2)\n",
    "alc_020_education.plot(kind='bar',color='mediumblue')\n",
    "plt.title('Average Alcohol Consumption by Education Level')\n",
    "plt.xlabel('Education Level')\n",
    "plt.ylabel('Average Alcohol Consumption')\n",
    "plt.xticks(rotation=45,ha='right')\n",
    "plt.grid(axis='y',linestyle='--',alpha=0.7)\n",
    "plt.tight_layout()\n",
    "plt.show()"
   ]
  },
  {
   "cell_type": "code",
   "execution_count": null,
   "id": "f81e4373",
   "metadata": {},
   "outputs": [],
   "source": []
  },
  {
   "cell_type": "markdown",
   "id": "ad454d8c-36da-4982-a20a-f00907e7fc3d",
   "metadata": {},
   "source": [
    "### Health Drivers Vs. Health Improvements"
   ]
  },
  {
   "cell_type": "markdown",
   "id": "543219f4-e9a1-492c-a63b-604dbab29f5f",
   "metadata": {},
   "source": [
    "#### Question 5 - What is the relationship between regular exercise and self-reported health status? \n",
    "In order to answer our 5th question, I’ll start by charting reported health by reported physical activity against each other. Afterwards I’ll break down how different demographics and other relevant variables provided in the dataset affect how the two variables of interest affect their results. To begin I’ll give some details on reported health and reported physical activity. Reported health is broken down into 5 responses ranging from “Poor” to “Excellent” and reported physical health is broken down into if the respondent’s activity is “Above” or “Below” recommended activity guidelines."
   ]
  },
  {
   "cell_type": "code",
   "execution_count": null,
   "id": "e96a91af",
   "metadata": {},
   "outputs": [],
   "source": [
    "df_question6=df_general.copy()\n",
    "df_question6=df_question6.filter(items=[\n",
    "    'GEN_005',\n",
    "    'HWTDGISW',\n",
    "    'PAADVACV',\n",
    "    'DHHGAGE',\n",
    "    'DHH_SEX',\n",
    "    'GEOGPRV',\n",
    "    'EHG2DVH3'\n",
    "])\n",
    "#print(df_question6.head())\n",
    "#setting some print and summary functions to comments to remove clutter "
   ]
  },
  {
   "cell_type": "markdown",
   "id": "ac494937",
   "metadata": {},
   "source": [
    "Concerning data cleaning I have cleaned the data to select the variables I will be working with and then removed rows with response that are not useful to my analysis. Responses such as “valid skip”, “refused”, and “don’t know” are not of interest to my analysis and have been removed from the dataset I will be working with. Finally, I run code to check for missing values in my dataset."
   ]
  },
  {
   "cell_type": "code",
   "execution_count": null,
   "id": "a3857544",
   "metadata": {},
   "outputs": [],
   "source": [
    "df_question6=df_question6.drop(df_question6[df_question6['GEN_005']==8].index)\n",
    "df_question6=df_question6.drop(df_question6[df_question6['GEN_005']==7].index)\n",
    "df_question6=df_question6.drop(df_question6[df_question6['HWTDGISW']==6].index)\n",
    "df_question6=df_question6.drop(df_question6[df_question6['HWTDGISW']==9].index)\n",
    "df_question6=df_question6.drop(df_question6[df_question6['PAADVACV']==9].index)\n",
    "df_question6=df_question6.drop(df_question6[df_question6['PAADVACV']==6].index)\n",
    "df_question6=df_question6.drop(df_question6[df_question6['PAADVACV']==3].index)\n",
    "df_question6=df_question6.drop(df_question6[df_question6['EHG2DVH3']==9].index)\n",
    "df_question6.isnull().sum()\n"
   ]
  },
  {
   "cell_type": "markdown",
   "id": "de4ca238",
   "metadata": {},
   "source": [
    "I added a correlation heat map but there are no strong correlations between any of the variables included in my analysis."
   ]
  },
  {
   "cell_type": "code",
   "execution_count": null,
   "id": "3e0aeda4",
   "metadata": {},
   "outputs": [],
   "source": [
    "cor6 = df_question6.corr()\n",
    "\n",
    "labels6=['General Health', 'BMI', 'Physical Activity', 'Age', 'Sex','Location', 'Education']\n",
    "sns.heatmap(cor6, annot=True, cmap='coolwarm', center=0, xticklabels=labels6, yticklabels=labels6)\n",
    "plt.title(\"Correlation Between Physical Activity and Health Variables\")\n",
    "plt.show()"
   ]
  },
  {
   "cell_type": "markdown",
   "id": "61afff8f",
   "metadata": {},
   "source": [
    "To start I’ve visualized the initial two variables physical activity and reported health. To do this I grouped physical activity by the reported health categories and visualised them in a bar chart. The initial plot shows a clear trend between the reported health and how much of that population is above the recommended activity guideline. As the reported health decreases the difference between the proportion of people above and below the activity guideline shows downwards and upward trends respectively."
   ]
  },
  {
   "cell_type": "code",
   "execution_count": null,
   "id": "3f7c7f6d",
   "metadata": {},
   "outputs": [],
   "source": [
    "df6_health=df_question6.groupby('GEN_005', as_index=False)['PAADVACV'].value_counts(normalize=True,sort=False)\n",
    "plt.figure().set_figwidth(10)\n",
    "plt.bar(df6_health['GEN_005'].unique(),df6_health['proportion'][::2],width=0.3,label='Percent Above Activity Guideline')\n",
    "plt.bar(df6_health['GEN_005'].unique()+0.3,df6_health['proportion'][1::2],width=0.3, label='Percent Below Activity Guideline')\n",
    "plt.xticks(df6_health['GEN_005'].unique()+0.3/2,('Excellent','Very Good','Good','Fair','Poor'))\n",
    "plt.xlabel('Physical Activity By Health Status')\n",
    "plt.ylabel('Percent')\n",
    "plt.legend()\n",
    "plt.show()"
   ]
  },
  {
   "cell_type": "markdown",
   "id": "1650c111",
   "metadata": {},
   "source": [
    "I created subplots showing the first relationship but divided up by age groups. As can be seen in the graphs for the younger age groups there is no discernible trend between physical activity and reported health. This plot indicates that the younger age group are overall more active than older age groups but there are other factors that are more important to the younger age groups reported health. The age groups over 50 years old do show the trend in the initial plot. From this it could be reasonably concluded that as age increases physical activity becomes more important to ones reported health."
   ]
  },
  {
   "cell_type": "code",
   "execution_count": null,
   "id": "46b08a2c",
   "metadata": {},
   "outputs": [],
   "source": [
    "df_question6_age1=df_question6.drop(df_question6[df_question6['DHHGAGE']!=2].index)\n",
    "df6_health_age1=df_question6_age1.groupby('GEN_005', as_index=False)['PAADVACV'].value_counts(normalize=True,sort=False)\n",
    "df_question6_age2=df_question6.drop(df_question6[df_question6['DHHGAGE']!=3].index)\n",
    "df6_health_age2=df_question6_age2.groupby('GEN_005', as_index=False)['PAADVACV'].value_counts(normalize=True,sort=False)\n",
    "df_question6_age3=df_question6.drop(df_question6[df_question6['DHHGAGE']!=4].index)\n",
    "df6_health_age3=df_question6_age3.groupby('GEN_005', as_index=False)['PAADVACV'].value_counts(normalize=True,sort=False)\n",
    "df_question6_age4=df_question6.drop(df_question6[df_question6['DHHGAGE']!=5].index)\n",
    "df6_health_age4=df_question6_age4.groupby('GEN_005', as_index=False)['PAADVACV'].value_counts(normalize=True,sort=False)\n",
    "\n",
    "\n",
    "\n",
    "fig, axes = plt.subplots(2, 2, figsize=(12, 10))\n",
    "axes[0,0].bar(df6_health_age1['GEN_005'].unique(),df6_health_age1['proportion'][::2],width=0.3,label='Percent Above Activity Guideline')\n",
    "axes[0,0].bar(df6_health_age1['GEN_005'].unique()+0.3,df6_health_age1['proportion'][1::2],width=0.3, label='Percent Below Activity Guideline')\n",
    "axes[0,0].set_xticks(df6_health_age1['GEN_005'].unique()+0.3/2,('Excellent','Very Good','Good','Fair','Poor'))\n",
    "axes[0,0].set_xlabel('Physical Activity By Health Status 18-34')\n",
    "axes[0,0].set_ylabel('Percent')\n",
    "axes[0,0].legend()\n",
    "\n",
    "axes[0,1].bar(df6_health_age2['GEN_005'].unique(),df6_health_age2['proportion'][::2],width=0.3,label='Percent Above Activity Guideline')\n",
    "axes[0,1].bar(df6_health_age2['GEN_005'].unique()+0.3,df6_health_age2['proportion'][1::2],width=0.3, label='Percent Below Activity Guideline')\n",
    "axes[0,1].set_xticks(df6_health_age2['GEN_005'].unique()+0.3/2,('Excellent','Very Good','Good','Fair','Poor'))\n",
    "axes[0,1].set_xlabel('Physical Activity By Health Status 35-49')\n",
    "axes[0,1].set_ylabel('Percent')\n",
    "axes[0,1].legend()\n",
    "\n",
    "axes[1,0].bar(df6_health_age3['GEN_005'].unique(),df6_health_age3['proportion'][::2],width=0.3,label='Percent Above Activity Guideline')\n",
    "axes[1,0].bar(df6_health_age3['GEN_005'].unique()+0.3,df6_health_age3['proportion'][1::2],width=0.3, label='Percent Below Activity Guideline')\n",
    "axes[1,0].set_xticks(df6_health_age3['GEN_005'].unique()+0.3/2,('Excellent','Very Good','Good','Fair','Poor'))\n",
    "axes[1,0].set_xlabel('Physical Activity By Health Status 50-64')\n",
    "axes[1,0].set_ylabel('Percent')\n",
    "axes[1,0].legend()\n",
    "\n",
    "axes[1,1].bar(df6_health_age4['GEN_005'].unique(),df6_health_age4['proportion'][::2],width=0.3,label='Percent Above Activity Guideline')\n",
    "axes[1,1].bar(df6_health_age4['GEN_005'].unique()+0.3,df6_health_age4['proportion'][1::2],width=0.3, label='Percent Below Activity Guideline')\n",
    "axes[1,1].set_xticks(df6_health_age4['GEN_005'].unique()+0.3/2,('Excellent','Very Good','Good','Fair','Poor'))\n",
    "axes[1,1].set_xlabel('Physical Activity By Health Status 65 plus')\n",
    "axes[1,1].set_ylabel('Percent')\n",
    "axes[1,1].legend()\n",
    "\n",
    "plt.show()"
   ]
  },
  {
   "cell_type": "markdown",
   "id": "7c1671ee",
   "metadata": {},
   "source": [
    "Another breakdown was the two main variables of interest by the respondent’s level of education. The plots show that if a respondent did not complete high school, they are less likely to be active than respondents who completed high school or have a post secondary degree. There were minimal differences between those that completed high school or hold a post secondary degree. All plots follow the trend shown in the first graph."
   ]
  },
  {
   "cell_type": "code",
   "execution_count": null,
   "id": "b2514e5c",
   "metadata": {},
   "outputs": [],
   "source": [
    "df_question6edu1=df_question6.drop(df_question6[df_question6['EHG2DVH3']!=1].index)\n",
    "df6_edu1=df_question6edu1.groupby('GEN_005', as_index=False)['PAADVACV'].value_counts(normalize=True,sort=False)\n",
    "df_question6edu2=df_question6.drop(df_question6[df_question6['EHG2DVH3']!=2].index)\n",
    "df6_edu2=df_question6edu2.groupby('GEN_005', as_index=False)['PAADVACV'].value_counts(normalize=True,sort=False)\n",
    "df_question6edu2=df_question6.drop(df_question6[df_question6['EHG2DVH3']!=3].index)\n",
    "df6_edu3=df_question6edu2.groupby('GEN_005', as_index=False)['PAADVACV'].value_counts(normalize=True,sort=False)\n",
    "\n",
    "fig, axes = plt.subplots(2, 2, figsize=(12, 10))\n",
    "axes[0,0].bar(df6_edu1['GEN_005'].unique(),df6_edu1['proportion'][::2],width=0.3,label='Percent Above Activity Guideline')\n",
    "axes[0,0].bar(df6_edu1['GEN_005'].unique()+0.3,df6_edu1['proportion'][1::2],width=0.3, label='Percent Below Activity Guideline')\n",
    "axes[0,0].set_xticks(df6_edu1['GEN_005'].unique()+0.3/2,('Excellent','Very Good','Good','Fair','Poor'))\n",
    "axes[0,0].set_xlabel('Physical Activity By Health Status No HS Diploma')\n",
    "axes[0,0].set_ylabel('Percent')\n",
    "axes[0,0].legend()\n",
    "\n",
    "axes[0,1].bar(df6_edu2['GEN_005'].unique(),df6_edu2['proportion'][::2],width=0.3,label='Percent Above Activity Guideline')\n",
    "axes[0,1].bar(df6_edu2['GEN_005'].unique()+0.3,df6_edu2['proportion'][1::2],width=0.3, label='Percent Below Activity Guideline')\n",
    "axes[0,1].set_xticks(df6_edu2['GEN_005'].unique()+0.3/2,('Excellent','Very Good','Good','Fair','Poor'))\n",
    "axes[0,1].set_xlabel('Physical Activity By Health Status HS Diploma')\n",
    "axes[0,1].set_ylabel('Percent')\n",
    "axes[0,1].legend()\n",
    "\n",
    "axes[1,0].bar(df6_edu3['GEN_005'].unique(),df6_edu3['proportion'][::2],width=0.3,label='Percent Above Activity Guideline')\n",
    "axes[1,0].bar(df6_edu3['GEN_005'].unique()+0.3,df6_edu3['proportion'][1::2],width=0.3, label='Percent Below Activity Guideline')\n",
    "axes[1,0].set_xticks(df6_edu3['GEN_005'].unique()+0.3/2,('Excellent','Very Good','Good','Fair','Poor'))\n",
    "axes[1,0].set_xlabel('Physical Activity By Health Status Uni Degree')\n",
    "axes[1,0].set_ylabel('Percent')\n",
    "axes[1,0].legend()\n",
    "fig.delaxes(axes[1, 1])\n",
    "plt.show()"
   ]
  },
  {
   "cell_type": "markdown",
   "id": "7306b0b2-1953-45d2-9487-c9072e8a5323",
   "metadata": {},
   "source": [
    "#### Question 6 - How does stress influence the maintenance or improvement of mental health?  "
   ]
  },
  {
   "cell_type": "markdown",
   "id": "bfc30848",
   "metadata": {},
   "source": [
    "For our 6th question I started by charting reported mental health by the respondent’s stress level. After that ill break down the relationship by relevant demographic variables in the dataset along with some other visualizations of the data. Much like question 6 reported mental health is broken down into categories ranging from “poor” to “excellent”. Reported stress level is broken down into 5 categories ranging from “not at all stressful” to “extremely stressful”."
   ]
  },
  {
   "cell_type": "code",
   "execution_count": null,
   "id": "50b8adc4",
   "metadata": {},
   "outputs": [],
   "source": [
    "df_question7=df_general.copy()\n",
    "df_question7=df_question7.filter(items=[\n",
    "    'GEN_015',\n",
    "    'GEN_020',\n",
    "    'HWTDGISW',\n",
    "    'PAADVACV',\n",
    "    'DHHGAGE',\n",
    "    'DHH_SEX',\n",
    "    'GEOGPRV',\n",
    "    'EHG2DVH3',\n",
    "    'HWT_050'\n",
    "])\n",
    "#print(df_question7.head())"
   ]
  },
  {
   "cell_type": "markdown",
   "id": "c20db8f9",
   "metadata": {},
   "source": [
    "Like question 5 for data cleaning, I selected variables of interest and put them into a new data set for me to perform my analysis. I cleaned unwanted variables like “don’t know” and “refused” as they are not of interest to my analysis. Lastly, I checked the dataset for missing values.\n",
    "For the initial graph plotting stress level by reported mental health status. As can be seen in the graph there is a distinct trend shown as respondents mental health decreases the percentage of the mental health level reporting higher stress levels grows. This trend shows the relationship that one could expect that stress does seem have be a determining factor or mental health. "
   ]
  },
  {
   "cell_type": "code",
   "execution_count": null,
   "id": "39260d83",
   "metadata": {},
   "outputs": [],
   "source": [
    "df_question7=df_question7.drop(df_question7[df_question7['GEN_015']==9].index)\n",
    "df_question7=df_question7.drop(df_question7[df_question7['GEN_015']==8].index)\n",
    "df_question7=df_question7.drop(df_question7[df_question7['GEN_015']==7].index)\n",
    "df_question7=df_question7.drop(df_question7[df_question7['GEN_020']==8].index)\n",
    "df_question7=df_question7.drop(df_question7[df_question7['GEN_020']==7].index)\n",
    "df_question7=df_question7.drop(df_question7[df_question7['HWTDGISW']==6].index)\n",
    "df_question7=df_question7.drop(df_question7[df_question7['HWTDGISW']==9].index)\n",
    "df_question7=df_question7.drop(df_question7[df_question7['PAADVACV']==9].index)\n",
    "df_question7=df_question7.drop(df_question7[df_question7['PAADVACV']==6].index)\n",
    "df_question7=df_question7.drop(df_question7[df_question7['PAADVACV']==3].index)\n",
    "df_question7=df_question7.drop(df_question7[df_question7['HWT_050']==6].index)\n",
    "df_question7=df_question7.drop(df_question7[df_question7['HWT_050']==7].index)\n",
    "df_question7=df_question7.drop(df_question7[df_question7['HWT_050']==8].index)\n",
    "df_question7=df_question7.drop(df_question7[df_question7['HWT_050']==9].index)\n",
    "df_question7=df_question7.drop(df_question7[df_question7['EHG2DVH3']==9].index)\n",
    "df_question7.isnull().sum()"
   ]
  },
  {
   "cell_type": "markdown",
   "id": "dc74e91c",
   "metadata": {},
   "source": [
    "The correlation matrix with a heat map is included but it does not show any particular results of interest."
   ]
  },
  {
   "cell_type": "code",
   "execution_count": null,
   "id": "bffed677",
   "metadata": {},
   "outputs": [],
   "source": [
    "cor7 = df_question7.corr()\n",
    "\n",
    "labels7=['Mental Health', 'Stress Level', 'BMI', 'Physical Activity', 'Age', 'Sex','Location', 'Education','Self Percieved Weight']\n",
    "sns.heatmap(cor7, annot=True, cmap='coolwarm', center=0, xticklabels=labels7, yticklabels=labels7)\n",
    "plt.title(\"Correlation Between Stress and Mental Health Variables\")\n",
    "plt.show()"
   ]
  },
  {
   "cell_type": "markdown",
   "id": "6d64ef98",
   "metadata": {},
   "source": [
    "For the first breakdown by demographics, I have broken down the first graph by the age groups reported in the dataset. In each graph the general trend of higher stress levels being seen at the lower reported mental health states. However, as age increases the number of respondents in the extremes of the reported stress levels differs significantly with older age groups responding more in the extremes."
   ]
  },
  {
   "cell_type": "code",
   "execution_count": null,
   "id": "4ffc39ce",
   "metadata": {},
   "outputs": [],
   "source": [
    "df_healthstress=df_question7.groupby('GEN_015', as_index=False)['GEN_020'].value_counts(normalize=True, sort=False)\n",
    "plt.figure().set_figwidth(10)\n",
    "plt.bar(df_healthstress['GEN_015'].unique()-0.2,df_healthstress['proportion'][::5],width=0.1,label='Not at all stressful')\n",
    "plt.bar(df_healthstress['GEN_015'].unique()-0.1,df_healthstress['proportion'][1::5],width=0.1, label='Not very stressful')\n",
    "plt.bar(df_healthstress['GEN_015'].unique(),df_healthstress['proportion'][2::5],width=0.1, label='A bit stressful')\n",
    "plt.bar(df_healthstress['GEN_015'].unique()+0.1,df_healthstress['proportion'][3::5],width=0.1, label='Quite a bit stressful')\n",
    "plt.bar(df_healthstress['GEN_015'].unique()+0.2,df_healthstress['proportion'][4::5],width=0.1, label='Extremely stressful')\n",
    "plt.xticks(df_healthstress['GEN_015'].unique(),('Excellent','Very Good','Good','Fair','Poor'))\n",
    "plt.xlabel('Stress Level by Mental Health Status')\n",
    "plt.ylabel('Percent')\n",
    "plt.legend()\n",
    "plt.show()"
   ]
  },
  {
   "cell_type": "markdown",
   "id": "a91929ce",
   "metadata": {},
   "source": [
    "For my last visualisation I plotted reported mental health by self perceived weight to see how one’s self-perceived weight influences their mental health at all. In the graph there is a trend shown, as the respondents mental health decreases the percentage of the population in each mental health category reporting they view themselves as “just right” decreases. Likewise, the amount of each category’s population reporting that their view themselves as “underweight” or “overweight” increases as reported mental health decreases."
   ]
  },
  {
   "cell_type": "code",
   "execution_count": null,
   "id": "8010e7ee",
   "metadata": {},
   "outputs": [],
   "source": [
    "df_question7_age1=df_question7.drop(df_question7[df_question7['DHHGAGE']!=2].index)\n",
    "df7_health_age1=df_question7_age1.groupby('GEN_015', as_index=False)['GEN_020'].value_counts(normalize=True,sort=False)\n",
    "df_question7_age2=df_question7.drop(df_question7[df_question7['DHHGAGE']!=3].index)\n",
    "df7_health_age2=df_question7_age2.groupby('GEN_015', as_index=False)['GEN_020'].value_counts(normalize=True,sort=False)\n",
    "df_question7_age3=df_question7.drop(df_question7[df_question7['DHHGAGE']!=4].index)\n",
    "df7_health_age3=df_question7_age3.groupby('GEN_015', as_index=False)['GEN_020'].value_counts(normalize=True,sort=False)\n",
    "df_question7_age4=df_question7.drop(df_question7[df_question7['DHHGAGE']!=5].index)\n",
    "df7_health_age4=df_question7_age4.groupby('GEN_015', as_index=False)['GEN_020'].value_counts(normalize=True,sort=False)\n",
    "\n",
    "temp=pd.DataFrame({'GEN_015':5,'GEN_015':1,'proportion':0},index=[20])\n",
    "df7_health_age1=pd.concat([df7_health_age1.iloc[:20], temp, df7_health_age1.iloc[20:]],ignore_index=True)\n",
    "df7_health_age1.iloc[20,0]=5\n",
    "df7_health_age1.iloc[20,1]=1\n",
    "df7_health_age1.iloc[20,2]=0\n",
    "\n",
    "temp=pd.DataFrame({'GEN_015':5,'GEN_015':1,'proportion':0},index=[20])\n",
    "df7_health_age2=pd.concat([df7_health_age2.iloc[:20], temp, df7_health_age2.iloc[20:]],ignore_index=True)\n",
    "df7_health_age2.iloc[20,0]=5\n",
    "df7_health_age2.iloc[20,1]=1\n",
    "df7_health_age2.iloc[20,2]=0\n",
    "\n",
    "temp=pd.DataFrame({'GEN_015':5,'GEN_015':1,'proportion':0},index=[20])\n",
    "df7_health_age4=pd.concat([df7_health_age4.iloc[:20], temp, df7_health_age4.iloc[20:]],ignore_index=True)\n",
    "df7_health_age4.iloc[20,0]=5\n",
    "df7_health_age4.iloc[20,1]=1\n",
    "df7_health_age4.iloc[20,2]=0\n",
    "fig, axes = plt.subplots(2, 2, figsize=(12, 10))\n",
    "axes[0,0].bar(df7_health_age1['GEN_015'].unique()-0.2,df7_health_age1['proportion'][::5],width=0.1,label='Not at all stressful')\n",
    "axes[0,0].bar(df7_health_age1['GEN_015'].unique()-0.1,df7_health_age1['proportion'][1::5],width=0.1, label='Not very stressful')\n",
    "axes[0,0].bar(df7_health_age1['GEN_015'].unique(),df7_health_age1['proportion'][2::5],width=0.1, label='A bit stressful')\n",
    "axes[0,0].bar(df7_health_age1['GEN_015'].unique()+0.1,df7_health_age1['proportion'][3::5],width=0.1, label='Quite a bit stressful')\n",
    "axes[0,0].bar(df7_health_age1['GEN_015'].unique()+0.2,df7_health_age1['proportion'][4::5],width=0.1, label='Extremely stressful')\n",
    "axes[0,0].set_xticks(df7_health_age1['GEN_015'].unique(),('Excellent','Very Good','Good','Fair','Poor'))\n",
    "axes[0,0].set_xlabel('Stress Level by Mental Health Status 18-34')\n",
    "axes[0,0].set_ylabel('Percent')\n",
    "axes[0,0].legend()\n",
    "\n",
    "axes[0,1].bar(df7_health_age2['GEN_015'].unique()-0.2,df7_health_age2['proportion'][::5],width=0.1,label='Not at all stressful')\n",
    "axes[0,1].bar(df7_health_age2['GEN_015'].unique()-0.1,df7_health_age2['proportion'][1::5],width=0.1, label='Not very stressful')\n",
    "axes[0,1].bar(df7_health_age2['GEN_015'].unique(),df7_health_age2['proportion'][2::5],width=0.1, label='A bit stressful')\n",
    "axes[0,1].bar(df7_health_age2['GEN_015'].unique()+0.1,df7_health_age2['proportion'][3::5],width=0.1, label='Quite a bit stressful')\n",
    "axes[0,1].bar(df7_health_age2['GEN_015'].unique()+0.2,df7_health_age2['proportion'][4::5],width=0.1, label='Extremely stressful')\n",
    "axes[0,1].set_xticks(df7_health_age2['GEN_015'].unique(),('Excellent','Very Good','Good','Fair','Poor'))\n",
    "axes[0,1].set_xlabel('Stress Level by Mental Health Status 34-49')\n",
    "axes[0,1].set_ylabel('Percent')\n",
    "axes[0,1].legend()\n",
    "\n",
    "axes[1,0].bar(df7_health_age3['GEN_015'].unique()-0.2,df7_health_age3['proportion'][::5],width=0.1,label='Not at all stressful')\n",
    "axes[1,0].bar(df7_health_age3['GEN_015'].unique()-0.1,df7_health_age3['proportion'][1::5],width=0.1, label='Not very stressful')\n",
    "axes[1,0].bar(df7_health_age3['GEN_015'].unique(),df7_health_age3['proportion'][2::5],width=0.1, label='A bit stressful')\n",
    "axes[1,0].bar(df7_health_age3['GEN_015'].unique()+0.1,df7_health_age3['proportion'][3::5],width=0.1, label='Quite a bit stressful')\n",
    "axes[1,0].bar(df7_health_age3['GEN_015'].unique()+0.2,df7_health_age3['proportion'][4::5],width=0.1, label='Extremely stressful')\n",
    "axes[1,0].set_xticks(df7_health_age3['GEN_015'].unique(),('Excellent','Very Good','Good','Fair','Poor'))\n",
    "axes[1,0].set_xlabel('Stress Level by Mental Health Status 50-64')\n",
    "axes[1,0].set_ylabel('Percent')\n",
    "axes[1,0].legend()\n",
    "\n",
    "axes[1,1].bar(df7_health_age4['GEN_015'].unique()-0.2,df7_health_age4['proportion'][0::5],width=0.1,label='Not at all stressful')\n",
    "axes[1,1].bar(df7_health_age4['GEN_015'].unique()-0.1,df7_health_age4['proportion'][1::5],width=0.1, label='Not very stressful')\n",
    "axes[1,1].bar(df7_health_age4['GEN_015'].unique(),df7_health_age4['proportion'][2::5],width=0.1, label='A bit stressful')\n",
    "axes[1,1].bar(df7_health_age4['GEN_015'].unique()+0.1,df7_health_age4['proportion'][3::5],width=0.1, label='Quite a bit stressful')\n",
    "axes[1,1].bar(df7_health_age4['GEN_015'].unique()+0.2,df7_health_age4['proportion'][4::5],width=0.1, label='Extremely stressful')\n",
    "axes[1,1].set_xticks(df7_health_age4['GEN_015'].unique(),('Excellent','Very Good','Good','Fair','Poor'))\n",
    "axes[1,1].set_xlabel('Stress Level by Mental Health Status 65 plus')\n",
    "axes[1,1].set_ylabel('Percent')\n",
    "axes[1,1].legend()\n",
    "\n",
    "plt.show()"
   ]
  },
  {
   "cell_type": "markdown",
   "id": "8943cc77",
   "metadata": {},
   "source": [
    "## Discussion and Conclusion\n",
    "\n",
    "From our analysis we saw that individuals who moderately consume alcohol may report a better self-perceived mental health and life satisfaction.  However, if alcohol consumption becomes excessive, especially in the case of frequent binge drinking, we can see a noticeable decrease in self-perceived mental health and life satisfacation. This trend is noticeable across all age groups to varying degrees.\n",
    "\n",
    "\n",
    "## References\n",
    "\n",
    "1. Canadian Community Health Survey – Annual Component (CCHS). Govermnent of Canada, Statistics Canada. (2023, December 29). https://www23.statcan.gc.ca/imdb/p2SV.pl?Function=getSurvey&Id=1531795 \n",
    "\n",
    "2. Canadian Community Health Survey: Public Use Microdata File. Govermnent of Canada, Statistics Canada (2024, September 22). https://www150.statcan.gc.ca/n1/en/catalogue/82M0013x \n",
    "\n",
    "3. Haskell, W. L., Lee, I. M., Pate, R. R., Powell, K. E., Benjamin, G. A., & Flegal, K. M. (2007). Physical activity and public health: Updated recommendation for adults from the American College of Sports Medicine and the American Heart Association. Circulation, 116(9), 1081-1093. \n",
    "\n",
    "4. Rehm, J., Taylor, B., & Room, R. (2006). Global burden of disease from alcohol, illicit drugs and tobacco. Drug and Alcohol Review, 25(6), 503-513.  "
   ]
  },
  {
   "cell_type": "markdown",
   "id": "d1e7a51e",
   "metadata": {},
   "source": []
  }
 ],
 "metadata": {
  "kernelspec": {
   "display_name": "Python 3 (ipykernel)",
   "language": "python",
   "name": "python3"
  },
  "language_info": {
   "codemirror_mode": {
    "name": "ipython",
    "version": 3
   },
   "file_extension": ".py",
   "mimetype": "text/x-python",
   "name": "python",
   "nbconvert_exporter": "python",
   "pygments_lexer": "ipython3",
   "version": "3.12.4"
  }
 },
 "nbformat": 4,
 "nbformat_minor": 5
}
